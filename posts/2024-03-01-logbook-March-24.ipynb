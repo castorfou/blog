{
 "cells": [
  {
   "cell_type": "raw",
   "id": "cb1fa2df-fd88-4efc-a58f-3083a36bc982",
   "metadata": {},
   "source": [
    "---\n",
    "title: \"Logbook for March 24\"\n",
    "description: \"\"\n",
    "date: \"03/01/2024\"\n",
    "categories:\n",
    "  - logbook\n",
    "  - wsl\n",
    "  - wsl_latest\n",
    "image: /images/logbook.jpg\n",
    "toc: true\n",
    "show_tags: true\n",
    "---"
   ]
  },
  {
   "cell_type": "markdown",
   "id": "edf84969-ae1c-48a7-b3bb-bdbf9b4437e2",
   "metadata": {},
   "source": [
    "ssl error in jupyter lab extension"
   ]
  },
  {
   "cell_type": "markdown",
   "id": "464474cf-054a-4ad8-ba02-9fed99d13126",
   "metadata": {},
   "source": [
    "# Week 12 - March 24"
   ]
  },
  {
   "cell_type": "markdown",
   "id": "78aca09f-be88-4cbd-a124-d212ffc14e77",
   "metadata": {
    "tags": []
   },
   "source": [
    "## Monday 03/18"
   ]
  },
  {
   "cell_type": "markdown",
   "id": "61cf13fc-69c8-4874-8e10-ef33bf1c2f79",
   "metadata": {},
   "source": [
    "### ssl error in jupyter lab extension"
   ]
  },
  {
   "attachments": {
    "137a6227-af25-4651-8307-af929c40d834.png": {
     "image/png": "[encoded data removed]"
    }
   },
   "cell_type": "markdown",
   "id": "57487d20-3570-4b0f-a89e-5b9976ef6410",
   "metadata": {},
   "source": [
    "Using jupyter lab v4.1.5, when tehre are updates in extensions\n",
    "\n",
    "![image.png](attachment:137a6227-af25-4651-8307-af929c40d834.png)\n",
    "\n",
    "this is tempting to click on Update"
   ]
  },
  {
   "cell_type": "markdown",
   "id": "74788ea2-2539-441c-bf2e-6c059a82dbf0",
   "metadata": {},
   "source": [
    "Unfortunately I have this error after some time\n",
    "\n",
    "```python\n",
    "Error when performing an action.\n",
    "\n",
    "Reason given:\n",
    "\n",
    "Error:   WARNING: Retrying (Retry(total=4, connect=None, read=None, redirect=None, status=None)) after connection broken by 'SSLError(SSLCertVerificationError(1, '[SSL: CERTIFICATE_VERIFY_FAILED] certificate verify failed: self-signed certificate in certificate chain (_ssl.c:992)'))': /packages/91/f0/ef2d353d7e44db6215fc18594b2d1da15c81d3d0c1ac0518e6f484f01595/jupyterlab_execute_time-3.1.2-py3-none-any.whl.metadata\n",
    "  WARNING: Retrying (Retry(total=3, connect=None, read=None, redirect=None, status=None)) after connection broken by 'SSLError(SSLCertVerificationError(1, '[SSL: CERTIFICATE_VERIFY_FAILED] certificate verify failed: self-signed certificate in certificate chain (_ssl.c:992)'))': /packages/91/f0/ef2d353d7e44db6215fc18594b2d1da15c81d3d0c1ac0518e6f484f01595/jupyterlab_execute_time-3.1.2-py3-none-any.whl.metadata\n",
    "  WARNING: Retrying (Retry(total=2, connect=None, read=None, redirect=None, status=None)) after connection broken by 'SSLError(SSLCertVerificationError(1, '[SSL: CERTIFICATE_VERIFY_FAILED] certificate verify failed: self-signed certificate in certificate chain (_ssl.c:992)'))': /packages/91/f0/ef2d353d7e44db6215fc18594b2d1da15c81d3d0c1ac0518e6f484f01595/jupyterlab_execute_time-3.1.2-py3-none-any.whl.metadata\n",
    "  WARNING: Retrying (Retry(total=1, connect=None, read=None, redirect=None, status=None)) after connection broken by 'SSLError(SSLCertVerificationError(1, '[SSL: CERTIFICATE_VERIFY_FAILED] certificate verify failed: self-signed certificate in certificate chain (_ssl.c:992)'))': /packages/91/f0/ef2d353d7e44db6215fc18594b2d1da15c81d3d0c1ac0518e6f484f01595/jupyterlab_execute_time-3.1.2-py3-none-any.whl.metadata\n",
    "  WARNING: Retrying (Retry(total=0, connect=None, read=None, redirect=None, status=None)) after connection broken by 'SSLError(SSLCertVerificationError(1, '[SSL: CERTIFICATE_VERIFY_FAILED] certificate verify failed: self-signed certificate in certificate chain (_ssl.c:992)'))': /packages/91/f0/ef2d353d7e44db6215fc18594b2d1da15c81d3d0c1ac0518e6f484f01595/jupyterlab_execute_time-3.1.2-py3-none-any.whl.metadata\n",
    "ERROR: Could not install packages due to an OSError: HTTPSConnectionPool(host='files.pythonhosted.org', port=443): Max retries exceeded with url: /packages/91/f0/ef2d353d7e44db6215fc18594b2d1da15c81d3d0c1ac0518e6f484f01595/jupyterlab_execute_time-3.1.2-py3-none-any.whl.metadata (Caused by SSLError(SSLCertVerificationError(1, '[SSL: CERTIFICATE_VERIFY_FAILED] certificate verify failed: self-signed certificate in certificate chain (_ssl.c:992)')))\n",
    "```\n",
    "\n",
    "I thought initially it was due to [SSL: CERTIFICATE_VERIFY_FAILED](/posts/2022-09-06-ssl-certificate_verify_failed.html) and I applied my own recipe (run `~/bin/certifi.sh` from my `base_jupyter_v4` environment)"
   ]
  },
  {
   "cell_type": "code",
   "execution_count": 2,
   "id": "78488086-321c-4521-b421-89c7eba8ea8e",
   "metadata": {
    "execution": {
     "iopub.execute_input": "2024-03-18T11:08:27.642038Z",
     "iopub.status.busy": "2024-03-18T11:08:27.641484Z",
     "iopub.status.idle": "2024-03-18T11:08:27.751962Z",
     "shell.execute_reply": "2024-03-18T11:08:27.751274Z",
     "shell.execute_reply.started": "2024-03-18T11:08:27.642021Z"
    }
   },
   "outputs": [
    {
     "name": "stdout",
     "output_type": "stream",
     "text": [
      "#!/bin/bash\n",
      "pip install -U certifi\n",
      "export SSL_CERT_FILE=`python -c 'import certifi;print(certifi.where())'`\n",
      "export TMPDIR=`mktemp -d`\n",
      "git clone git@gitlab.michelin.com:DEV/bib-certificates.git $TMPDIR\n",
      "cd $TMPDIR\n",
      "cat *trust-ca.pem >> $SSL_CERT_FILE\n"
     ]
    }
   ],
   "source": [
    "!cat ~/bin/certifi.sh"
   ]
  },
  {
   "cell_type": "markdown",
   "id": "b29c7d8e-792c-4a78-b7bc-f07913a194a3",
   "metadata": {},
   "source": [
    "But it didn't help"
   ]
  },
  {
   "cell_type": "code",
   "execution_count": null,
   "id": "38a65cfc-0f9d-4d0d-9102-9f15a797b9a3",
   "metadata": {},
   "outputs": [],
   "source": []
  }
 ],
 "metadata": {
  "kernelspec": {
   "display_name": "Python [conda env:fastai]",
   "language": "python",
   "name": "conda-env-fastai-py"
  },
  "language_info": {
   "codemirror_mode": {
    "name": "ipython",
    "version": 3
   },
   "file_extension": ".py",
   "mimetype": "text/x-python",
   "name": "python",
   "nbconvert_exporter": "python",
   "pygments_lexer": "ipython3",
   "version": "3.11.5"
  },
  "toc": {
   "base_numbering": 1,
   "nav_menu": {},
   "number_sections": true,
   "sideBar": true,
   "skip_h1_title": false,
   "title_cell": "Table of Contents",
   "title_sidebar": "Contents",
   "toc_cell": false,
   "toc_position": {},
   "toc_section_display": true,
   "toc_window_display": true
  }
 },
 "nbformat": 4,
 "nbformat_minor": 5
}
