{
 "cells": [
  {
   "cell_type": "raw",
   "id": "bfaca678-338b-46cd-820b-8e1990ef8835",
   "metadata": {},
   "source": [
    "---\n",
    "title: \"Python scripts from notebooks\"\n",
    "description: \"Extract Python scripts from notebooks with nbdev\"\n",
    "date: \"04/25/2023\"\n",
    "categories:\n",
    "  - fastai\n",
    "  - nbdev\n",
    "  - jupyter\n",
    "image: /images/icons/fastai.png\n",
    "toc: true\n",
    "show_tags: true\n",
    "---"
   ]
  },
  {
   "cell_type": "markdown",
   "id": "1ff094b7-5379-401a-9ea8-dfefb0221753",
   "metadata": {},
   "source": [
    "# Abstract"
   ]
  },
  {
   "cell_type": "markdown",
   "id": "5c04a1ed-579f-4aa4-909c-bbfa9103a2d1",
   "metadata": {},
   "source": [
    "I use [nbdev](https://nbdev.fast.ai/) to write python libraries (I will create a blog entry explaining that).\n",
    "\n",
    "And used it to blog (now only using [quarto](/posts/2022-09-16-migrate%20blog%20from%20nbdev%20to%20quarto.html))"
   ]
  },
  {
   "cell_type": "markdown",
   "id": "97e41731-27b9-4d5d-b282-f5df72abb80a",
   "metadata": {},
   "source": [
    "Sometimes you need something lighter just to export part of notebooks and reused it elsewhere (in another notebook for example).\n",
    "\n",
    "In the old time of fastai, I used a script from Jeremy Howard (see [Generate python modules from jupyter notebooks](/posts/2021-09-29-nbdev-notebook2script.html))\n",
    "\n",
    "I want to update this method and use nbdev."
   ]
  },
  {
   "cell_type": "markdown",
   "id": "0c652b13-c69b-4125-99a7-7c335b0b0df2",
   "metadata": {},
   "source": [
    "# Pre-requisite"
   ]
  },
  {
   "cell_type": "markdown",
   "id": "6f6cef2a-aca9-408c-a5c2-213f91b8aaec",
   "metadata": {},
   "source": [
    "Have nbdev installed in your environment, and update it if needed"
   ]
  },
  {
   "cell_type": "markdown",
   "id": "8f21f152-8093-4a6e-8d8c-7ac54a62731a",
   "metadata": {},
   "source": [
    "## installation"
   ]
  },
  {
   "cell_type": "markdown",
   "id": "084c43e4-86b4-40cb-938a-fe9e9c2f426a",
   "metadata": {},
   "source": [
    "```bash\n",
    "conda activate <my_env>\n",
    "conda install -c fastai nbdev\n",
    "```"
   ]
  },
  {
   "cell_type": "markdown",
   "id": "21931288-3e68-46ff-8976-c77072bcea5d",
   "metadata": {},
   "source": [
    "## update"
   ]
  },
  {
   "cell_type": "markdown",
   "id": "97aee313-9b8d-45e9-933e-479a7b4678c3",
   "metadata": {},
   "source": [
    "Just re-run `conda install -c fastai nbdev`"
   ]
  },
  {
   "cell_type": "markdown",
   "id": "ede49202-8010-45a9-85fa-4b31e7beaf73",
   "metadata": {},
   "source": [
    "## display version"
   ]
  },
  {
   "cell_type": "code",
   "execution_count": 1,
   "id": "98adc680-68d8-4b96-a91e-ca45369be641",
   "metadata": {
    "execution": {
     "iopub.execute_input": "2023-04-25T08:03:28.508178Z",
     "iopub.status.busy": "2023-04-25T08:03:28.508036Z",
     "iopub.status.idle": "2023-04-25T08:03:28.557313Z",
     "shell.execute_reply": "2023-04-25T08:03:28.556804Z",
     "shell.execute_reply.started": "2023-04-25T08:03:28.508162Z"
    },
    "tags": []
   },
   "outputs": [
    {
     "data": {
      "text/plain": [
       "'2.3.12'"
      ]
     },
     "execution_count": 1,
     "metadata": {},
     "output_type": "execute_result"
    }
   ],
   "source": [
    "import nbdev\n",
    "\n",
    "nbdev.__version__"
   ]
  },
  {
   "cell_type": "markdown",
   "id": "cf79e7bb-9861-4c4e-bc6f-df66308644de",
   "metadata": {},
   "source": [
    "# Usage"
   ]
  },
  {
   "cell_type": "markdown",
   "id": "34df608e-3735-462e-a45f-7fe95d1fa474",
   "metadata": {},
   "source": [
    "Start from a notebook, and \n",
    "\n",
    "- add `#|default_exp app` in a cell of your notebook, where app is the name of the module to be extracted\n",
    "- add `#| export` in each cell you want to extract\n",
    "- insert this in the last cell of your notebook. 'path' will be the module location \n",
    "```bash\n",
    "import nbdev\n",
    "nbdev.export.nb_export('app.ipynb', 'path')\n",
    "print('Export successful')\n",
    "```"
   ]
  },
  {
   "cell_type": "markdown",
   "id": "0d821328-c3f0-42f9-9369-ef34d30b65bb",
   "metadata": {},
   "source": [
    "# Example"
   ]
  },
  {
   "cell_type": "code",
   "execution_count": 6,
   "id": "9156bbc5-a797-4d94-ba1b-4eaf246a9867",
   "metadata": {
    "execution": {
     "iopub.execute_input": "2023-04-25T08:04:44.112250Z",
     "iopub.status.busy": "2023-04-25T08:04:44.112048Z",
     "iopub.status.idle": "2023-04-25T08:04:44.116163Z",
     "shell.execute_reply": "2023-04-25T08:04:44.115386Z",
     "shell.execute_reply.started": "2023-04-25T08:04:44.112235Z"
    },
    "tags": []
   },
   "outputs": [],
   "source": [
    "#|default_exp example_nbdev"
   ]
  },
  {
   "cell_type": "code",
   "execution_count": 7,
   "id": "3434ec98-696b-4e50-b4f3-2c84cba0391d",
   "metadata": {
    "execution": {
     "iopub.execute_input": "2023-04-25T08:04:44.478911Z",
     "iopub.status.busy": "2023-04-25T08:04:44.478723Z",
     "iopub.status.idle": "2023-04-25T08:04:44.482615Z",
     "shell.execute_reply": "2023-04-25T08:04:44.481848Z",
     "shell.execute_reply.started": "2023-04-25T08:04:44.478899Z"
    },
    "tags": []
   },
   "outputs": [
    {
     "name": "stdout",
     "output_type": "stream",
     "text": [
      "This is a nbdev example\n"
     ]
    }
   ],
   "source": [
    "#|export\n",
    "\n",
    "print('This is a nbdev example')"
   ]
  },
  {
   "cell_type": "code",
   "execution_count": 8,
   "id": "5cc49aa8-aa55-40b5-9af1-4e04c9e054d9",
   "metadata": {
    "execution": {
     "iopub.execute_input": "2023-04-25T08:04:44.954673Z",
     "iopub.status.busy": "2023-04-25T08:04:44.954479Z",
     "iopub.status.idle": "2023-04-25T08:04:45.100909Z",
     "shell.execute_reply": "2023-04-25T08:04:45.098552Z",
     "shell.execute_reply.started": "2023-04-25T08:04:44.954660Z"
    },
    "tags": []
   },
   "outputs": [
    {
     "name": "stdout",
     "output_type": "stream",
     "text": [
      "Export successful\n",
      "-rwxrwxrwx 1 guillaume guillaume 215 Apr 25 10:04 example_nbdev.py\n"
     ]
    }
   ],
   "source": [
    "from nbdev.export import nb_export\n",
    "nb_export('2023-04-24-extract-python-scripts-with-nbdev.ipynb', '.')\n",
    "print('Export successful')\n",
    "!ls -l *.py"
   ]
  },
  {
   "cell_type": "code",
   "execution_count": null,
   "id": "367eaea4-bf8d-4b93-b043-c886202286d7",
   "metadata": {},
   "outputs": [],
   "source": []
  }
 ],
 "metadata": {
  "kernelspec": {
   "display_name": "nbdev",
   "language": "python",
   "name": "nbdev"
  },
  "language_info": {
   "codemirror_mode": {
    "name": "ipython",
    "version": 3
   },
   "file_extension": ".py",
   "mimetype": "text/x-python",
   "name": "python",
   "nbconvert_exporter": "python",
   "pygments_lexer": "ipython3",
   "version": "3.9.15"
  }
 },
 "nbformat": 4,
 "nbformat_minor": 5
}
