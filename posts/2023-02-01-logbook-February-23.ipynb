{
 "cells": [
  {
   "cell_type": "raw",
   "id": "cb1fa2df-fd88-4efc-a58f-3083a36bc982",
   "metadata": {},
   "source": [
    "---\n",
    "title: \"Logbook for February 23\"\n",
    "description: \"\"\n",
    "date: \"02/01/2023\"\n",
    "categories:\n",
    "  - logbook\n",
    "image: /images/logbook.jpg\n",
    "toc: true\n",
    "show_tags: true\n",
    "---"
   ]
  },
  {
   "cell_type": "markdown",
   "id": "92cd81f4-e648-44ce-9c94-9d0970905ff2",
   "metadata": {},
   "source": [
    "# Week 5 - February 23"
   ]
  },
  {
   "cell_type": "markdown",
   "id": "22c14d0a-b87e-4b53-9a61-f3bdc3aa8b73",
   "metadata": {},
   "source": [
    "## Wednesday 02/01"
   ]
  },
  {
   "cell_type": "markdown",
   "id": "0332e429-3a00-4c71-bc8e-1e5a440b2c08",
   "metadata": {},
   "source": [
    "Just watched [Live coding session #4](/posts/2023-01-25-fastai-live-coding-sessions.html#live-coding-4) from fastai"
   ]
  },
  {
   "cell_type": "markdown",
   "id": "50c34dec-ad36-40d6-b2f6-83764cfb85cb",
   "metadata": {},
   "source": [
    "Just watched [video #2](https://www.college-de-france.fr/agenda/cours/modeles-information-et-physique-statistique/modeles-information-et-physique-statistique-2) of Stephane Mallat 2023.\n",
    "\n",
    "Here is a link to [Elements of information theory](http://staff.ustc.edu.cn/~cgong821/Wiley.Interscience.Elements.of.Information.Theory.Jul.2006.eBook-DDU.pdf) by Thomas Cover and Joy Thomas, reading suggested by S. Mallat (~800 pages)"
   ]
  },
  {
   "cell_type": "markdown",
   "id": "0ba69a18-6b47-49e5-8dd6-29a881b03541",
   "metadata": {},
   "source": [
    "Just watched [Live coding session #5](/posts/2023-01-25-fastai-live-coding-sessions.html#live-coding-5) from fastai"
   ]
  },
  {
   "cell_type": "code",
   "execution_count": null,
   "id": "0ca2191a-e3fd-4c4c-b9db-b578b2638d05",
   "metadata": {},
   "outputs": [],
   "source": []
  }
 ],
 "metadata": {
  "kernelspec": {
   "display_name": "Python 3 (ipykernel)",
   "language": "python",
   "name": "python3"
  },
  "language_info": {
   "codemirror_mode": {
    "name": "ipython",
    "version": 3
   },
   "file_extension": ".py",
   "mimetype": "text/x-python",
   "name": "python",
   "nbconvert_exporter": "python",
   "pygments_lexer": "ipython3",
   "version": "3.9.15"
  },
  "toc": {
   "base_numbering": 1,
   "nav_menu": {},
   "number_sections": true,
   "sideBar": true,
   "skip_h1_title": false,
   "title_cell": "Table of Contents",
   "title_sidebar": "Contents",
   "toc_cell": false,
   "toc_position": {},
   "toc_section_display": true,
   "toc_window_display": true
  }
 },
 "nbformat": 4,
 "nbformat_minor": 5
}
