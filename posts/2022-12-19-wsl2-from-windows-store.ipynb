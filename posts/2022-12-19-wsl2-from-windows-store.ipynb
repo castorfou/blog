{
 "cells": [
  {
   "cell_type": "raw",
   "id": "6f929eba-4853-4ace-a77c-cbc74e6352ba",
   "metadata": {},
   "source": [
    "---\n",
    "title: \"WSL2 from Windows Store\"\n",
    "description: \"Out of preview, this is stable and it has tons of new features\"\n",
    "date: \"12/19/2022\"\n",
    "categories:\n",
    "  - wsl\n",
    "  - wsl_latest\n",
    "image: /images/icons/wsl2.jpeg\n",
    "toc: true\n",
    "show_tags: true\n",
    "---"
   ]
  },
  {
   "cell_type": "markdown",
   "id": "e8957d8a-2fe2-4d2a-a124-c4a2e37dfc59",
   "metadata": {},
   "source": [
    "# Source of inspiration"
   ]
  },
  {
   "cell_type": "code",
   "execution_count": null,
   "id": "a532156e-28dc-4a4a-9a71-a22840b54791",
   "metadata": {},
   "outputs": [],
   "source": []
  }
 ],
 "metadata": {
  "kernelspec": {
   "display_name": "Python [conda env:fastai]",
   "language": "python",
   "name": "conda-env-fastai-py"
  },
  "language_info": {
   "codemirror_mode": {
    "name": "ipython",
    "version": 3
   },
   "file_extension": ".py",
   "mimetype": "text/x-python",
   "name": "python",
   "nbconvert_exporter": "python",
   "pygments_lexer": "ipython3",
   "version": "3.9.13"
  }
 },
 "nbformat": 4,
 "nbformat_minor": 5
}
