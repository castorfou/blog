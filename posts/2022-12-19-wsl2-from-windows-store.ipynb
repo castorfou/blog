{
 "cells": [
  {
   "cell_type": "raw",
   "id": "6f929eba-4853-4ace-a77c-cbc74e6352ba",
   "metadata": {},
   "source": [
    "---\n",
    "title: \"WSL2 from Windows Store\"\n",
    "description: \"Out of preview, this is stable and it has tons of new features\"\n",
    "date: \"12/19/2022\"\n",
    "categories:\n",
    "  - wsl\n",
    "  - wsl_latest\n",
    "image: /images/icons/wsl2.jpeg\n",
    "toc: true\n",
    "show_tags: true\n",
    "---"
   ]
  },
  {
   "cell_type": "markdown",
   "id": "e8957d8a-2fe2-4d2a-a124-c4a2e37dfc59",
   "metadata": {},
   "source": [
    "# Source of inspiration"
   ]
  },
  {
   "cell_type": "markdown",
   "id": "2bdc2840-6d2a-4097-b500-bb04ce9f5a2e",
   "metadata": {},
   "source": [
    "From devblogs: [The Windows Subsystem for Linux in the Microsoft Store is now generally available on Windows 10 and 11](https://devblogs.microsoft.com/commandline/the-windows-subsystem-for-linux-in-the-microsoft-store-is-now-generally-available-on-windows-10-and-11/)"
   ]
  },
  {
   "cell_type": "markdown",
   "id": "d7d034fe-4c0b-4735-b5ca-86679ec5bd02",
   "metadata": {},
   "source": [
    "## What’s new in the Store version of WSL?[](https://devblogs.microsoft.com/commandline/the-windows-subsystem-for-linux-in-the-microsoft-store-is-now-generally-available-on-windows-10-and-11/#whats-new-in-the-store-version-of-wsl)\n",
    "\n",
    "There are 100s of bug fixes and improvements that you can read through on our [release notes](https://github.com/microsoft/WSL/releases) page to see all the improvements that we’ve put into the Store version of WSL. In this blog post I’ll highlight some of the significant changes that you might see as a user upgrading to the Store version for the first time.\n",
    "\n",
    "- You can opt in for [systemd support](https://devblogs.microsoft.com/commandline/systemd-support-is-now-available-in-wsl/)\n",
    "- Windows 10 users can now use Linux GUI apps! This was previously only available to Windows 11 users\n",
    "- `wsl --install` now includes:\n",
    "    - Direct installation from the Microsoft Store by default\n",
    "    - `--no-launch` option to not launch the distro after installing\n",
    "    - `--web-download` option which will download the distro through our GitHub releases page rather than through the Microsoft Store\n",
    "- `wsl --mount` now includes:\n",
    "    - `--vhd` option to make mounting VHD files easier\n",
    "    - `--name` option to make naming the mountpoint easier\n",
    "- `wsl --import` and `wsl --export` now include:\n",
    "    - `--vhd` option to import or export to a VHD directly\n",
    "- Added `wsl --import-in-place` to take an existing .vhdx file and register it as a distro\n",
    "- Added `wsl --version` to print your version information more easily\n",
    "- `wsl --update` now includes:\n",
    "    - Opening the Microsoft Store page by default\n",
    "    - `--web-download` option to allow updates from our GitHub release page\n",
    "- Better error printing\n",
    "- All of WSLg and the WSL kernel are packaged into the same WSL package, meaning no more extra MSI installs!"
   ]
  },
  {
   "cell_type": "markdown",
   "id": "918a182c-5497-4d98-aa93-0b2e55655440",
   "metadata": {},
   "source": [
    "# Testing these features"
   ]
  },
  {
   "cell_type": "markdown",
   "id": "e811e491-7cd1-478d-8a83-8ef5a4b6cf69",
   "metadata": {},
   "source": [
    "## systemd"
   ]
  },
  {
   "cell_type": "markdown",
   "id": "28855cae-7191-468a-aba4-0a902f5ff2e7",
   "metadata": {},
   "source": [
    "following this article: [systemd support](https://devblogs.microsoft.com/commandline/systemd-support-is-now-available-in-wsl/)"
   ]
  },
  {
   "cell_type": "code",
   "execution_count": null,
   "id": "12165b69-ae8e-4027-9231-0d4e3c24c350",
   "metadata": {},
   "outputs": [],
   "source": []
  }
 ],
 "metadata": {
  "kernelspec": {
   "display_name": "Python [conda env:fastai]",
   "language": "python",
   "name": "conda-env-fastai-py"
  },
  "language_info": {
   "codemirror_mode": {
    "name": "ipython",
    "version": 3
   },
   "file_extension": ".py",
   "mimetype": "text/x-python",
   "name": "python",
   "nbconvert_exporter": "python",
   "pygments_lexer": "ipython3",
   "version": "3.9.13"
  }
 },
 "nbformat": 4,
 "nbformat_minor": 5
}
