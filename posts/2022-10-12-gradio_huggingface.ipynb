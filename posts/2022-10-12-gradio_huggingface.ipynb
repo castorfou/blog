{
 "cells": [
  {
   "cell_type": "raw",
   "id": "6f929eba-4853-4ace-a77c-cbc74e6352ba",
   "metadata": {},
   "source": [
    "---\n",
    "title: \"gradio and huggingface - handson\"\n",
    "description: \"how to build an app with gradio (and nbdev) and host it with huggingface\"\n",
    "date: \"10/12/2022\"\n",
    "categories:\n",
    "  - gradio\n",
    "  - huggingface\n",
    "  - nbdev\n",
    "image: /images/icons/huggingface.png\n",
    "toc: true\n",
    "show_tags: true\n",
    "---"
   ]
  },
  {
   "cell_type": "markdown",
   "id": "e8957d8a-2fe2-4d2a-a124-c4a2e37dfc59",
   "metadata": {},
   "source": [
    "## Source of inspiration"
   ]
  },
  {
   "cell_type": "markdown",
   "id": "1bd6bbb4-44ae-447d-a94c-9f1e9569fff7",
   "metadata": {},
   "source": [
    "[HF news of the week early october](/posts/2022-10-01-logbook-October-22.html#friday-107)\n",
    "\n",
    "There is a new version of [Gradio](https://github.com/gradio-app/gradio/releases/tag/v3.4) announced. Have to try it.\n",
    "\n",
    "These apps can then be hosted on huggingface. Let's try that.\n"
   ]
  },
  {
   "cell_type": "markdown",
   "id": "8cef19f0-36de-41d1-a37a-8dbc2ec11927",
   "metadata": {},
   "source": [
    "# How to do it"
   ]
  },
  {
   "cell_type": "code",
   "execution_count": null,
   "id": "445cf5a0-7874-4777-8cb4-61ebc13f5c60",
   "metadata": {},
   "outputs": [],
   "source": []
  }
 ],
 "metadata": {
  "kernelspec": {
   "display_name": "rbc",
   "language": "python",
   "name": "rbc"
  },
  "language_info": {
   "codemirror_mode": {
    "name": "ipython",
    "version": 3
   },
   "file_extension": ".py",
   "mimetype": "text/x-python",
   "name": "python",
   "nbconvert_exporter": "python",
   "pygments_lexer": "ipython3",
   "version": "3.9.13"
  }
 },
 "nbformat": 4,
 "nbformat_minor": 5
}
