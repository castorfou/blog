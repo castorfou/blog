{
 "cells": [
  {
   "cell_type": "raw",
   "metadata": {},
   "source": [
    "---\n",
    "aliases:\n",
    "- /gan/pytorch/2020/10/06/gan-specialization-course1-week1-intro_to_gan\n",
    "badges: false\n",
    "branch: master\n",
    "categories:\n",
    "- gan\n",
    "- pytorch\n",
    "date: '2020-10-06'\n",
    "description: from Sharon Zhou, deeplearning.ai. What I have learnt from gan specialization\n",
    "  course 1 (Build Basic GAN) on week 1\n",
    "output-file: 2020-10-06-gan-specialization-course1-week1-intro_to_gan.html\n",
    "show_tags: true\n",
    "title: GAN Specialization course 1 week 1 - intro to GAN\n",
    "toc: true\n",
    "\n",
    "---\n",
    "\n"
   ]
  },
  {
   "cell_type": "markdown",
   "metadata": {},
   "source": [
    "# My notes"
   ]
  },
  {
   "cell_type": "markdown",
   "metadata": {},
   "source": [
    "![alt text](../images/gan_spe_W1_0001.jpg \"gan course1 week1-1\")"
   ]
  },
  {
   "cell_type": "markdown",
   "metadata": {},
   "source": [
    "![alt text](../images/gan_spe_W1_0002.jpg \"gan course1 week1-1\")"
   ]
  },
  {
   "cell_type": "code",
   "execution_count": null,
   "metadata": {},
   "outputs": [],
   "source": []
  }
 ],
 "metadata": {
  "kernelspec": {
   "display_name": "Python [conda env:fastai] *",
   "language": "python",
   "name": "conda-env-fastai-py"
  },
  "language_info": {
   "codemirror_mode": {
    "name": "ipython",
    "version": 3
   },
   "file_extension": ".py",
   "mimetype": "text/x-python",
   "name": "python",
   "nbconvert_exporter": "python",
   "pygments_lexer": "ipython3",
   "version": "3.8.2"
  },
  "toc": {
   "base_numbering": 1,
   "nav_menu": {},
   "number_sections": true,
   "sideBar": true,
   "skip_h1_title": false,
   "title_cell": "Table of Contents",
   "title_sidebar": "Contents",
   "toc_cell": false,
   "toc_position": {},
   "toc_section_display": true,
   "toc_window_display": false
  }
 },
 "nbformat": 4,
 "nbformat_minor": 4
}
