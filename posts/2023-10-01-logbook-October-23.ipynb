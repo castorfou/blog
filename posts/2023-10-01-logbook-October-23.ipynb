{
 "cells": [
  {
   "cell_type": "raw",
   "id": "cb1fa2df-fd88-4efc-a58f-3083a36bc982",
   "metadata": {},
   "source": [
    "---\n",
    "title: \"Logbook for October 23\"\n",
    "description: \"\"\n",
    "date: \"10/01/2023\"\n",
    "categories:\n",
    "  - logbook\n",
    "  - wsl\n",
    "image: /images/logbook.jpg\n",
    "toc: true\n",
    "show_tags: true\n",
    "---"
   ]
  },
  {
   "cell_type": "markdown",
   "id": "edf84969-ae1c-48a7-b3bb-bdbf9b4437e2",
   "metadata": {},
   "source": [
    "wsl cursor theme, fastai delegates getattr (delegated composition, delegated inheritance)"
   ]
  },
  {
   "cell_type": "markdown",
   "id": "464474cf-054a-4ad8-ba02-9fed99d13126",
   "metadata": {},
   "source": [
    "# Week 41 - October 23"
   ]
  },
  {
   "cell_type": "markdown",
   "id": "78aca09f-be88-4cbd-a124-d212ffc14e77",
   "metadata": {
    "tags": []
   },
   "source": [
    "## Thursday 10/12"
   ]
  },
  {
   "cell_type": "markdown",
   "id": "4af734ab-94c2-4ac8-9603-0124fdffeb8d",
   "metadata": {
    "tags": []
   },
   "source": [
    "In WSL, I have often this entry in kern.log\n",
    "\n",
    "`Gdk-Message: 08:21:35.347: Unable to load hand2 from the cursor theme`\n",
    "\n",
    "It is due to missing cursor icon hand2 in the default cursor theme. hand2 appears for example when you go other hyperlink (in console in my case).\n",
    "\n",
    "Easy way to fix it, open `gnome-tweaks` and select `Yaru` as cursor theme (under `Appearance`)"
   ]
  },
  {
   "cell_type": "markdown",
   "id": "40ff88ad-e67d-462e-bef5-cf58dd37bcd0",
   "metadata": {},
   "source": [
    "# Week 42 - October 23"
   ]
  },
  {
   "cell_type": "markdown",
   "id": "4e977694-eb2d-46ea-a917-8f4f2c0b4ff7",
   "metadata": {
    "tags": []
   },
   "source": [
    "## Thursday 10/19"
   ]
  },
  {
   "cell_type": "markdown",
   "id": "a8442574-ee92-4c14-ae10-391513c37470",
   "metadata": {
    "tags": []
   },
   "source": [
    "I have just seen in fastai code a decorator used in many places: **`delegates`**.\n",
    "\n",
    "Want to know what it does and why Jeremy used it? And luckily he explained that in [Make Delegation Work in Python](https://www.fast.ai/posts/2019-08-06-delegation.html)."
   ]
  },
  {
   "cell_type": "markdown",
   "id": "e35049a8-205b-4e1c-87a4-e28b2e007065",
   "metadata": {},
   "source": [
    "And can be used for class"
   ]
  },
  {
   "cell_type": "code",
   "execution_count": 1,
   "id": "043ad180-75cd-4834-b796-219d8849c445",
   "metadata": {
    "execution": {
     "iopub.execute_input": "2023-10-19T06:45:12.523744Z",
     "iopub.status.busy": "2023-10-19T06:45:12.523635Z",
     "iopub.status.idle": "2023-10-19T06:45:12.529824Z",
     "shell.execute_reply": "2023-10-19T06:45:12.529381Z",
     "shell.execute_reply.started": "2023-10-19T06:45:12.523733Z"
    }
   },
   "outputs": [
    {
     "name": "stdout",
     "output_type": "stream",
     "text": [
      "(title, price, cost, *, category='General', date=None, author='Jeremy')\n"
     ]
    }
   ],
   "source": [
    "from fastcore.meta import *\n",
    "import inspect\n",
    "\n",
    "class WebPage:\n",
    "    def __init__(self, title, category=\"General\", date=None, author=\"Jeremy\"):\n",
    "        self.title,self.category,self.author = title,category,author\n",
    "\n",
    "@delegates()\n",
    "class ProductPage(WebPage):\n",
    "    def __init__(self, title, price, cost, **kwargs):\n",
    "        super().__init__(title, **kwargs)\n",
    "\n",
    "print(inspect.signature(ProductPage))\n"
   ]
  },
  {
   "cell_type": "markdown",
   "id": "f3145be2-344c-457a-9d20-70068793a295",
   "metadata": {},
   "source": [
    "Or for functions"
   ]
  },
  {
   "cell_type": "code",
   "execution_count": 2,
   "id": "1d16ae31-24bd-4736-96fd-f5db43c7d94c",
   "metadata": {
    "execution": {
     "iopub.execute_input": "2023-10-19T06:45:12.530900Z",
     "iopub.status.busy": "2023-10-19T06:45:12.530676Z",
     "iopub.status.idle": "2023-10-19T06:45:12.536114Z",
     "shell.execute_reply": "2023-10-19T06:45:12.535676Z",
     "shell.execute_reply.started": "2023-10-19T06:45:12.530889Z"
    }
   },
   "outputs": [
    {
     "name": "stdout",
     "output_type": "stream",
     "text": [
      "(title, cost, price=10, *, category='General', date=None, author='Jeremy')\n"
     ]
    }
   ],
   "source": [
    "from fastcore.meta import *\n",
    "import inspect\n",
    "\n",
    "def create_web_page(title, category=\"General\", date=None, author=\"Jeremy\"):\n",
    "    pass\n",
    "\n",
    "@delegates(create_web_page)\n",
    "def create_product_page(title, cost, price=10, **kwargs):\n",
    "    pass\n",
    "\n",
    "print(inspect.signature(create_product_page))"
   ]
  },
  {
   "cell_type": "markdown",
   "id": "b1f9ba61-30e6-49a2-960a-39122b893d5f",
   "metadata": {
    "execution": {
     "iopub.execute_input": "2023-10-19T06:36:57.384640Z",
     "iopub.status.busy": "2023-10-19T06:36:57.384272Z",
     "iopub.status.idle": "2023-10-19T06:36:57.388466Z",
     "shell.execute_reply": "2023-10-19T06:36:57.387833Z",
     "shell.execute_reply.started": "2023-10-19T06:36:57.384622Z"
    }
   },
   "source": [
    "And he explains when to use delegated inheritance or delegated composition.\n",
    "\n",
    "> If you’ll be using the composed object in a few different places, the **delegated composition** approach will probably be best. If you’re adding some functionality to an existing class, **delegated inheritance** might result in a cleaner API for your class users."
   ]
  },
  {
   "cell_type": "markdown",
   "id": "20c25023-ba8e-4de7-b388-bfaada8d9dfd",
   "metadata": {},
   "source": [
    "In case of delegated composition, Jeremy created **`GetAttr`** to allow easily access attributes from your composed class."
   ]
  },
  {
   "cell_type": "code",
   "execution_count": 4,
   "id": "a460af71-a50f-4f87-ac69-b06be08b39ec",
   "metadata": {
    "execution": {
     "iopub.execute_input": "2023-10-19T06:45:25.866040Z",
     "iopub.status.busy": "2023-10-19T06:45:25.865844Z",
     "iopub.status.idle": "2023-10-19T06:45:25.870592Z",
     "shell.execute_reply": "2023-10-19T06:45:25.869855Z",
     "shell.execute_reply.started": "2023-10-19T06:45:25.866027Z"
    }
   },
   "outputs": [
    {
     "data": {
      "text/plain": [
       "'Sylvain'"
      ]
     },
     "execution_count": 4,
     "metadata": {},
     "output_type": "execute_result"
    }
   ],
   "source": [
    "from fastcore.basics import *\n",
    "\n",
    "class ProductPage(GetAttr):\n",
    "    def __init__(self, page, price, cost):\n",
    "        self.page,self.price,self.cost = page,price,cost\n",
    "        self.default = page\n",
    "page = WebPage('Soap', category='Bathroom', author=\"Sylvain\")\n",
    "\n",
    "p = ProductPage(page, 15.0, 10.50)\n",
    "p.author"
   ]
  },
  {
   "cell_type": "markdown",
   "id": "7805c3fe-f168-4bbf-8156-79eb1aa812f1",
   "metadata": {},
   "source": []
  }
 ],
 "metadata": {
  "kernelspec": {
   "display_name": "Python [conda env:fastai]",
   "language": "python",
   "name": "conda-env-fastai-py"
  },
  "language_info": {
   "codemirror_mode": {
    "name": "ipython",
    "version": 3
   },
   "file_extension": ".py",
   "mimetype": "text/x-python",
   "name": "python",
   "nbconvert_exporter": "python",
   "pygments_lexer": "ipython3",
   "version": "3.11.5"
  },
  "toc": {
   "base_numbering": 1,
   "nav_menu": {},
   "number_sections": true,
   "sideBar": true,
   "skip_h1_title": false,
   "title_cell": "Table of Contents",
   "title_sidebar": "Contents",
   "toc_cell": false,
   "toc_position": {},
   "toc_section_display": true,
   "toc_window_display": true
  }
 },
 "nbformat": 4,
 "nbformat_minor": 5
}
