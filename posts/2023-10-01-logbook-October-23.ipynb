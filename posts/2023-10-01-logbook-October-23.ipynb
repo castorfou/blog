{
 "cells": [
  {
   "cell_type": "raw",
   "id": "cb1fa2df-fd88-4efc-a58f-3083a36bc982",
   "metadata": {},
   "source": [
    "---\n",
    "title: \"Logbook for October 23\"\n",
    "description: \"\"\n",
    "date: \"10/01/2023\"\n",
    "categories:\n",
    "  - logbook\n",
    "  - wsl\n",
    "image: /images/logbook.jpg\n",
    "toc: true\n",
    "show_tags: true\n",
    "---"
   ]
  },
  {
   "cell_type": "markdown",
   "id": "edf84969-ae1c-48a7-b3bb-bdbf9b4437e2",
   "metadata": {},
   "source": [
    "wsl cursor theme"
   ]
  },
  {
   "cell_type": "markdown",
   "id": "464474cf-054a-4ad8-ba02-9fed99d13126",
   "metadata": {},
   "source": [
    "# Week 41 - October 23"
   ]
  },
  {
   "cell_type": "markdown",
   "id": "78aca09f-be88-4cbd-a124-d212ffc14e77",
   "metadata": {
    "tags": []
   },
   "source": [
    "## Thursday 10/12"
   ]
  },
  {
   "cell_type": "markdown",
   "id": "4af734ab-94c2-4ac8-9603-0124fdffeb8d",
   "metadata": {
    "tags": []
   },
   "source": [
    "In WSL, I have often this entry in kern.log\n",
    "\n",
    "`Gdk-Message: 08:21:35.347: Unable to load hand2 from the cursor theme`\n",
    "\n",
    "It is due to missing cursor icon hand2 in the default cursor theme. hand2 appears for example when you go other hyperlink (in console in my case).\n",
    "\n",
    "Easy way to fix it, open `gnome-tweaks` and select `Yaru` as cursor theme (under `Appearance`)"
   ]
  },
  {
   "cell_type": "code",
   "execution_count": null,
   "id": "1d16ae31-24bd-4736-96fd-f5db43c7d94c",
   "metadata": {},
   "outputs": [],
   "source": []
  }
 ],
 "metadata": {
  "kernelspec": {
   "display_name": "Python 3 (ipykernel)",
   "language": "python",
   "name": "python3"
  },
  "language_info": {
   "codemirror_mode": {
    "name": "ipython",
    "version": 3
   },
   "file_extension": ".py",
   "mimetype": "text/x-python",
   "name": "python",
   "nbconvert_exporter": "python",
   "pygments_lexer": "ipython3",
   "version": "3.9.18"
  },
  "toc": {
   "base_numbering": 1,
   "nav_menu": {},
   "number_sections": true,
   "sideBar": true,
   "skip_h1_title": false,
   "title_cell": "Table of Contents",
   "title_sidebar": "Contents",
   "toc_cell": false,
   "toc_position": {},
   "toc_section_display": true,
   "toc_window_display": true
  }
 },
 "nbformat": 4,
 "nbformat_minor": 5
}
