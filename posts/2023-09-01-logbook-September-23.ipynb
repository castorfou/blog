{
 "cells": [
  {
   "cell_type": "raw",
   "id": "cb1fa2df-fd88-4efc-a58f-3083a36bc982",
   "metadata": {},
   "source": [
    "---\n",
    "title: \"Logbook for September 23\"\n",
    "description: \"\"\n",
    "date: \"09/01/2023\"\n",
    "categories:\n",
    "  - logbook\n",
    "  - wsl\n",
    "image: /images/logbook.jpg\n",
    "toc: true\n",
    "show_tags: true\n",
    "---"
   ]
  },
  {
   "cell_type": "markdown",
   "id": "edf84969-ae1c-48a7-b3bb-bdbf9b4437e2",
   "metadata": {},
   "source": [
    "wslg x11 apps freeze, video compression"
   ]
  },
  {
   "cell_type": "markdown",
   "id": "464474cf-054a-4ad8-ba02-9fed99d13126",
   "metadata": {},
   "source": [
    "# Week 37 - September 23"
   ]
  },
  {
   "cell_type": "markdown",
   "id": "4af734ab-94c2-4ac8-9603-0124fdffeb8d",
   "metadata": {
    "tags": []
   },
   "source": [
    "## Monday 09/11"
   ]
  },
  {
   "cell_type": "markdown",
   "id": "7af980cd-37e5-4ba5-b87f-37f3748b0c10",
   "metadata": {},
   "source": [
    "I have just opened an issue at wslg [GUI apps freeze as soon as detecting network change](https://github.com/microsoft/wslg/issues/1108)\n",
    "\n",
    "After inactivity or network change, x11 apps freeze. \n",
    "\n",
    "Have not yet identified why. "
   ]
  },
  {
   "cell_type": "markdown",
   "id": "fd7c89ce-0a3c-40d3-88fa-8568e44b6d8b",
   "metadata": {},
   "source": [
    "## Tuesday 09/13"
   ]
  },
  {
   "cell_type": "markdown",
   "id": "2b2f979f-af8a-4b12-b59e-83e468486d24",
   "metadata": {},
   "source": [
    "**Video compression with ffmpeg**\n",
    "\n",
    "I have used standard Windows screenshot tool to record a video illsutrating [GUI apps freeze as soon as detecting network change](https://github.com/microsoft/wslg/issues/1108) issue.\n",
    "\n",
    "It is short and its size is 175 MB. A little bit to much to add it to github issue.\n",
    "\n",
    "I used **ffmpeg** to compress it.\n",
    "\n",
    "```bash\n",
    "ffmpeg -i input.mp4 -vcodec libx265 -crf 20 output.mp4\n",
    "```\n",
    "`-crf 20` is a compression parameter. Higher parameter will result a lighter video but with negative quality impact.\n",
    "\n",
    "\n",
    "Compressed video is 5 MB. (30x size reduction, not that bad)\n",
    "\n",
    "I can use it in github issues."
   ]
  },
  {
   "cell_type": "code",
   "execution_count": null,
   "id": "4cb183c6-2955-40e4-be9a-3d4dcbde77f4",
   "metadata": {},
   "outputs": [],
   "source": []
  }
 ],
 "metadata": {
  "kernelspec": {
   "display_name": "Python 3 (ipykernel)",
   "language": "python",
   "name": "python3"
  },
  "language_info": {
   "codemirror_mode": {
    "name": "ipython",
    "version": 3
   },
   "file_extension": ".py",
   "mimetype": "text/x-python",
   "name": "python",
   "nbconvert_exporter": "python",
   "pygments_lexer": "ipython3",
   "version": "3.10.11"
  },
  "toc": {
   "base_numbering": 1,
   "nav_menu": {},
   "number_sections": true,
   "sideBar": true,
   "skip_h1_title": false,
   "title_cell": "Table of Contents",
   "title_sidebar": "Contents",
   "toc_cell": false,
   "toc_position": {},
   "toc_section_display": true,
   "toc_window_display": true
  }
 },
 "nbformat": 4,
 "nbformat_minor": 5
}
