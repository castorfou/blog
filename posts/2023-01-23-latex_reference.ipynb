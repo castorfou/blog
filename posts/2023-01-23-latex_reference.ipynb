{
 "cells": [
  {
   "cell_type": "raw",
   "id": "5acb2852-8bbf-4970-b9a3-ae4b087241b4",
   "metadata": {
    "execution": {
     "iopub.execute_input": "2023-01-12T13:41:19.709851Z",
     "iopub.status.busy": "2023-01-12T13:41:19.709617Z",
     "iopub.status.idle": "2023-01-12T13:41:19.716128Z",
     "shell.execute_reply": "2023-01-12T13:41:19.715427Z",
     "shell.execute_reply.started": "2023-01-12T13:41:19.709833Z"
    }
   },
   "source": [
    "---\n",
    "title: \"Latex in markdown reference\"\n",
    "description: \"to be used in jupyter to blog\"\n",
    "date: \"01/23/2023\"\n",
    "categories:\n",
    "  - jupyter\n",
    "image: /images/icons/jupyter.png\n",
    "toc: true\n",
    "show_tags: true\n",
    "---"
   ]
  },
  {
   "cell_type": "markdown",
   "id": "54534f72-8de8-4202-a9d6-2580890cba5f",
   "metadata": {},
   "source": [
    "# Reference"
   ]
  },
  {
   "cell_type": "markdown",
   "id": "7b7ba62d-2e1c-4646-9f0b-4444313c177c",
   "metadata": {},
   "source": [
    "https://en.wikibooks.org/wiki/LaTeX/Mathematics"
   ]
  },
  {
   "cell_type": "markdown",
   "id": "893ad551-8066-4658-a4b3-3a9e834bd496",
   "metadata": {
    "execution": {
     "iopub.execute_input": "2023-01-23T11:38:50.392093Z",
     "iopub.status.busy": "2023-01-23T11:38:50.391872Z",
     "iopub.status.idle": "2023-01-23T11:38:50.507910Z",
     "shell.execute_reply": "2023-01-23T11:38:50.507251Z",
     "shell.execute_reply.started": "2023-01-23T11:38:50.392080Z"
    }
   },
   "source": [
    "# Examples\n"
   ]
  },
  {
   "cell_type": "markdown",
   "id": "b30a2d17-dd2c-4dd6-b006-da4681e4772a",
   "metadata": {},
   "source": [
    "We can integrate markdown between `$ $` or `$$ $$`\n",
    "\n",
    "Single `$` will be inline\n",
    "\n",
    "Double `$$` will be centered into a new line"
   ]
  },
  {
   "cell_type": "markdown",
   "id": "86678256-3b77-4926-a5e8-343b40187218",
   "metadata": {
    "tags": []
   },
   "source": [
    "| LaTeX                | Markdow          |\n",
    "|----------------------|------------------|\n",
    "|  $\\widehat{q}$       | `\\widehat{q}`    | \n",
    "|  $|x-x_M|$           | `|x-x_M|`        | \n",
    "|  $f_M(x)$            | `f_M(x)`         | \n",
    "|  $\\displaystyle\\sum_{m}$                    |       `\\displaystyle\\sum_{m}`           |\n",
    "|  $\\langle{x,w_m}\\rangle$                    |        `\\langle{x,w_m}\\rangle`          |\n",
    "|  $\\| v_m \\|$         | `\\| v_m \\|`      |\n",
    "|  $\\cos$              | `\\cos`           |\n",
    "|  $\\mathbb{Z}^d$              | `\\mathbb{Z}$^d`           |\n",
    "|  $\\infty$            | `\\infty`         |\n",
    "|  $f \\in L^2$         | `f \\in L^2`      |\n",
    "|  $\\implies $         | `\\implies `      |\n",
    "|  $\\lim\\limits_{M \\to \\infty}$                    |   `\\lim\\limits_{M \\to \\infty}`               |\n",
    "|  $P(A|B) = \\frac{P(B|A)*P(A)}{P(B)}$                    |   `P(A|B) = \\frac{P(B|A)*P(A)}{P(B)}`               |\n",
    "|  $\\begin{align} \\\\\n",
    "Q_t(a) &= \\frac{\\text{sum of rewards when } \\mathit{a} \\text{ taken prior to }\\mathit{t}}{\\text{number of times } \\mathit{a} \\text{ taken prior to }\\mathit{t}} \\\\\n",
    "& = \\frac{\\displaystyle\\sum_{i=1}^{t-1} R_i.\\mathcal{1}_{A_i=a}}{\\displaystyle\\sum_{i=1}^{t-1} \\mathcal{1}_{A_i=a}}\n",
    "\\end{align}$                    |    `\\begin{align} \\\\` \n",
    "`Q_t(a) &= \\frac{\\text{sum of rewards when } \\mathit{a} \\text{ taken prior to }\\mathit{t}}{\\text{number of times } \\mathit{a} \\text{ taken prior to }\\mathit{t}} \\\\`\n",
    "`& = \\frac{\\displaystyle\\sum_{i=1}^{t-1} R_i.\\mathcal{1}_{A_i=a}}{\\displaystyle\\sum_{i=1}^{t-1} \\mathcal{1}_{A_i=a}}`\n",
    "`\\end{align}`              |\n",
    "| $A_t=\\underset{a}{\\mathrm{argmax}}{\\text{ }Q_t(a)}$                     |    `A_t=\\underset{a}{\\mathrm{argmax}}{\\text{ }Q_t(a)}`             |\n",
    "| $p(s',r|s,a) \\doteq Pr\\{S_t=s', R_t=r|S_{t-1}=s, A_{t-1}=a\\}$                     |    `p(s',r|s,a) \\doteq Pr\\{S_t=s', R_t=r|S_{t-1}=s, A_{t-1}=a\\}`              |\n",
    "| $q_\\pi(s,a) \\doteq \\mathbb{E}[R_{t+1}+\\gamma.G_{t+1}|S_t=s, A_t=a]$                     |  `q_\\pi(s,a) \\doteq \\mathbb{E}[R_{t+1}+\\gamma.G_{t+1}|S_t=s, A_t=a]`                |\n",
    "| $v_*(s)\\doteq \\max\\limits_{\\pi} v_\\pi(s), \\forall s \\in S$                     |      `v_*(s)\\doteq \\max\\limits_{\\pi} v_\\pi(s), \\forall s \\in S`            |\n",
    "| $q_\\pi(s,a) \\doteq \\mathbb{E}[R_{t+1}+\\gamma.G_{t+1}|S_t=s, A_t=a]$                     |   `q_\\pi(s,a) \\doteq \\mathbb{E}[R_{t+1}+\\gamma.G_{t+1}|S_t=s, A_t=a]`              |\n",
    "| $l(w,b)=\\frac{1}{N}\\displaystyle\\sum_{n=1}^{N}(y_n-(x_nw+b))^2$                     |    `l(w,b)=\\frac{1}{N}\\displaystyle\\sum_{n=1}^{N}(y_n-(x_nw+b))^2`              |\n",
    "| $\\nabla l(w,b) = \\begin{bmatrix}\\frac{\\partial l(w,b)}{\\partial w_1}\\\\ \\vdots \\\\\\frac{\\partial l(w,b)}{\\partial w_d}\\end{bmatrix}$                     |    `\\nabla l(w,b) = \\begin{bmatrix}\\frac{\\partial l(w,b)}{\\partial w_1}\\\\ \\vdots \\\\\\frac{\\partial l(w,b)}{\\partial w_d}\\end{bmatrix}`              |\n",
    "| $\\\\ H(X) = – \\sum_{x \\in X} P(x) * \\log(P(x))$                     |     `\\\\ H(X) = – \\sum_{x \\in X} P(x) * \\log(P(x))`             |\n",
    "| $X \\sim \\mathcal{N}(\\mu,\\,\\sigma^{2})$                     |      `X \\sim \\mathcal{N}(\\mu,\\,\\sigma^{2})`            |\n",
    "| $\\sqrt[n]{1+x+x^2+x^3+\\dots+x^n}$                     |    `\\sqrt[n]{1+x+x^2+x^3+\\dots+x^n}`              |\n",
    "|                      |                  |\n",
    "|                      |                  |\n",
    "|                      |                  |\n",
    "|                      |                  |\n",
    "|                      |                  |\n",
    "|                      |                  |\n",
    "\n"
   ]
  },
  {
   "cell_type": "code",
   "execution_count": null,
   "id": "acd6394f-ddc0-491f-a595-756622801011",
   "metadata": {},
   "outputs": [],
   "source": []
  }
 ],
 "metadata": {
  "kernelspec": {
   "display_name": "fastai",
   "language": "python",
   "name": "fastai"
  },
  "language_info": {
   "codemirror_mode": {
    "name": "ipython",
    "version": 3
   },
   "file_extension": ".py",
   "mimetype": "text/x-python",
   "name": "python",
   "nbconvert_exporter": "python",
   "pygments_lexer": "ipython3",
   "version": "3.10.9"
  }
 },
 "nbformat": 4,
 "nbformat_minor": 5
}
