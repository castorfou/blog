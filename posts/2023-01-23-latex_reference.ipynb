{
 "cells": [
  {
   "cell_type": "raw",
   "id": "5acb2852-8bbf-4970-b9a3-ae4b087241b4",
   "metadata": {
    "execution": {
     "iopub.execute_input": "2023-01-12T13:41:19.709851Z",
     "iopub.status.busy": "2023-01-12T13:41:19.709617Z",
     "iopub.status.idle": "2023-01-12T13:41:19.716128Z",
     "shell.execute_reply": "2023-01-12T13:41:19.715427Z",
     "shell.execute_reply.started": "2023-01-12T13:41:19.709833Z"
    }
   },
   "source": [
    "---\n",
    "title: \"Latex in markdown reference\"\n",
    "description: \"to be used in jupyter to blog\"\n",
    "date: \"01/23/2023\"\n",
    "categories:\n",
    "  - jupyter\n",
    "image: /images/icons/jupyter.png\n",
    "toc: true\n",
    "show_tags: true\n",
    "---"
   ]
  },
  {
   "cell_type": "markdown",
   "id": "54534f72-8de8-4202-a9d6-2580890cba5f",
   "metadata": {},
   "source": [
    "# Reference"
   ]
  },
  {
   "cell_type": "markdown",
   "id": "7b7ba62d-2e1c-4646-9f0b-4444313c177c",
   "metadata": {},
   "source": [
    "https://en.wikibooks.org/wiki/LaTeX/Mathematics"
   ]
  },
  {
   "cell_type": "markdown",
   "id": "893ad551-8066-4658-a4b3-3a9e834bd496",
   "metadata": {
    "execution": {
     "iopub.execute_input": "2023-01-23T11:38:50.392093Z",
     "iopub.status.busy": "2023-01-23T11:38:50.391872Z",
     "iopub.status.idle": "2023-01-23T11:38:50.507910Z",
     "shell.execute_reply": "2023-01-23T11:38:50.507251Z",
     "shell.execute_reply.started": "2023-01-23T11:38:50.392080Z"
    }
   },
   "source": [
    "# Examples\n"
   ]
  },
  {
   "cell_type": "markdown",
   "id": "b30a2d17-dd2c-4dd6-b006-da4681e4772a",
   "metadata": {},
   "source": [
    "We can integrate markdown between `$ $` or `$$ $$`\n",
    "\n",
    "Single `$` will be inline\n",
    "\n",
    "Double `$$` will be centered into a new line"
   ]
  },
  {
   "cell_type": "markdown",
   "id": "86678256-3b77-4926-a5e8-343b40187218",
   "metadata": {
    "tags": []
   },
   "source": [
    "| LaTeX                | Markdow          | \n",
    "|----------------------|------------------|\n",
    "|  $\\widehat{q}$       | `\\widehat{q}`    | \n",
    "|  $|x-x_M|$           |  `\\|x-x_M\\|`     | \n",
    "|                      |                  | "
   ]
  },
  {
   "cell_type": "code",
   "execution_count": null,
   "id": "6f4c6706-af44-471c-8f8e-31b4c20b77dc",
   "metadata": {},
   "outputs": [],
   "source": []
  }
 ],
 "metadata": {
  "kernelspec": {
   "display_name": "fastai",
   "language": "python",
   "name": "fastai"
  },
  "language_info": {
   "codemirror_mode": {
    "name": "ipython",
    "version": 3
   },
   "file_extension": ".py",
   "mimetype": "text/x-python",
   "name": "python",
   "nbconvert_exporter": "python",
   "pygments_lexer": "ipython3",
   "version": "3.10.9"
  }
 },
 "nbformat": 4,
 "nbformat_minor": 5
}
