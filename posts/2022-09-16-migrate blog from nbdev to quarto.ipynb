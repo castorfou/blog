{
 "cells": [
  {
   "cell_type": "raw",
   "metadata": {},
   "source": [
    "---\n",
    "aliases:\n",
    "- /fastpages/nbdev/quarto/2022/09/16/migrate blog from nbdev to quarto\n",
    "badges: false\n",
    "branch: master\n",
    "categories:\n",
    "- nbdev\n",
    "- quarto\n",
    "- fastpages\n",
    "- blog\n",
    "date: '2022-09-16'\n",
    "description: following migration guide from Hamel Hussain\n",
    "image: images/icons/fastai.png\n",
    "output-file: 2022-09-16-migrate blog from nbdev to quarto.html\n",
    "show_tags: true\n",
    "title: Blog - migrate to quarto\n",
    "toc: true\n",
    "\n",
    "---\n",
    "\n"
   ]
  },
  {
   "cell_type": "markdown",
   "metadata": {},
   "source": [
    "# Inspiration"
   ]
  },
  {
   "cell_type": "markdown",
   "metadata": {},
   "source": [
    "Hamel just announced that [fastpages will be discontinued](https://forums.fast.ai/t/fastpages-deprecating-fastpages-in-favor-of-quarto/99095) as nbdev+quarto is now a valid option to provide a blogging platform.\n",
    "He has written a [migration guide](https://nbdev.fast.ai/tutorials/blogging.html) for that. \n",
    "\n",
    "This is my walkthrough.\n"
   ]
  },
  {
   "cell_type": "markdown",
   "metadata": {},
   "source": [
    "# Walkthrough"
   ]
  },
  {
   "cell_type": "markdown",
   "metadata": {},
   "source": [
    "Main software needed are:\n",
    "* [quarto](https://quarto.org/docs/websites/website-blog.html)\n",
    "* python env with jupyter (can blog from `base`)"
   ]
  },
  {
   "cell_type": "markdown",
   "metadata": {},
   "source": [
    "## install quarto"
   ]
  },
  {
   "cell_type": "markdown",
   "metadata": {},
   "source": [
    "```bash\n",
    "$ sudo apt install quarto\n",
    "[sudo] password for guillaume:\n",
    "Reading package lists... Done\n",
    "Building dependency tree... Done\n",
    "Reading state information... Done\n",
    "quarto is already the newest version (1.1.189).\n",
    "0 upgraded, 0 newly installed, 0 to remove and 0 not upgraded.\n",
    "```\n",
    "\n",
    "will have to see what will happen on platforms where I don't have admin rights.\n",
    "\n",
    "Here Quarto is already present because I use it for nbdev2.\n"
   ]
  },
  {
   "cell_type": "markdown",
   "metadata": {},
   "source": [
    "## create repo `blog`"
   ]
  },
  {
   "cell_type": "markdown",
   "metadata": {},
   "source": [
    "I create `blog` repo on github.\n",
    "\n",
    "And I can now get it locally: `git clone https://github.com/castorfou/blog.git` (I am from office, only https is accepted)"
   ]
  },
  {
   "cell_type": "markdown",
   "metadata": {},
   "source": [
    "## create a quarto blog"
   ]
  },
  {
   "cell_type": "markdown",
   "metadata": {},
   "source": [
    "```bash\n",
    "cd ~/git/blog\n",
    "quarto create-project --type website:blog .\n",
    "quarto install extension quarto-ext/video\n",
    "```"
   ]
  },
  {
   "cell_type": "markdown",
   "metadata": {},
   "source": [
    "Issue here with `quarto install` when running from a corporate pc\n",
    "\n",
    "```bash\n",
    "$ quarto install extension quarto-ext/video\n",
    "Sending fatal alert BadCertificate\n",
    "ERROR: TypeError: error sending request for url (https://github.com/quarto-ext/video/archive/refs/heads/main.tar.gz): error trying to connect: invalid peer certificate contents: invalid peer certificate: UnknownIssuer\n",
    "```\n",
    "\n",
    "I have opened an issue at https://github.com/quarto-ext/video/issues/27"
   ]
  },
  {
   "cell_type": "markdown",
   "metadata": {},
   "source": [
    "## copy former blog content - notebooks and markdown files"
   ]
  },
  {
   "cell_type": "markdown",
   "metadata": {},
   "source": [
    "Your new repo will have a `posts/` directory. \n",
    "\n",
    "This is where you will copy all of your notebook and markdown posts from fastpages. "
   ]
  },
  {
   "cell_type": "markdown",
   "metadata": {},
   "source": [
    "```bash\n",
    "cp -r ../guillaume_blog/_notebooks/* posts/\n",
    "cp -r ../guillaume_blog/_posts/* posts/\n",
    "```"
   ]
  },
  {
   "cell_type": "markdown",
   "metadata": {},
   "source": [
    "I have to fix some stuff here, \n",
    "\n",
    "some markdown posts have empty description which is not allowed by the migration process.\n",
    "\n",
    "To fix that I will run `sed -i -- 's/^description:[[:space:]*]$/description:\\ \\\"\\\"/' ~/git/blog/posts/*.md`\n",
    "\n",
    "Globally to identify culprit, I executed this:\n",
    "```bash\n",
    "chemin=`pwd`\n",
    "for FILE in ../guillaume_blog/_posts/*; \\\n",
    "do echo $FILE; \\\n",
    "cp \"$FILE\" posts/; \\\n",
    "sed -i -- 's/^description:[[:space:]*]$/description:\\ \\\"\\\"/' $chemin/posts/*.md; \\\n",
    "nbdev_migrate --path posts; \\\n",
    "rm -f posts/* 2> /dev/null; \\\n",
    "done;\n",
    "```\n",
    "\n",
    "but now that I know the migration issues, I can just execute:"
   ]
  },
  {
   "cell_type": "markdown",
   "metadata": {},
   "source": [
    "```bash\n",
    "# handle empty description in markdown files\n",
    "chemin=`pwd`\n",
    "sed -i -- 's/^description:[[:space:]*]$/description:\\ \\\"\\\"/' $chemin/posts/*.md\n",
    "# code should not be here\n",
    "rm posts/notebook2script.py \n",
    "rm -rf posts/exp\n",
    "```"
   ]
  },
  {
   "cell_type": "markdown",
   "metadata": {},
   "source": [
    "What was wrong with `2021-02-10-college-de-france-representations-parcimonieuses.md` was accents in title. Removing é with e fixed it."
   ]
  },
  {
   "cell_type": "markdown",
   "metadata": {},
   "source": [
    "## copy former blog content - images"
   ]
  },
  {
   "cell_type": "markdown",
   "metadata": {},
   "source": [
    "```bash\n",
    "mkdir images\n",
    "cp -r ../guillaume_blog/images/* images\n",
    "cp -r ../guillaume_blog/images/copied_from_nb/* images\n",
    "```"
   ]
  },
  {
   "cell_type": "markdown",
   "metadata": {},
   "source": [
    "## migrate posts to quarto"
   ]
  },
  {
   "cell_type": "markdown",
   "metadata": {},
   "source": [
    "```bash\n",
    "conda activate dataset_tools #this is an env with nbdev installed\n",
    "#install last version of nbdev\n",
    "pip install -U nbdev\n",
    "nbdev_migrate --path posts\n",
    "```"
   ]
  },
  {
   "cell_type": "markdown",
   "metadata": {},
   "source": [
    "## update some files"
   ]
  },
  {
   "cell_type": "markdown",
   "metadata": {},
   "source": [
    "- `.gitignore`: we suggest adding `_site/` as well as dot files `.*`\n",
    "- `about.qmd`: I reuse my former `_pages/about.md`\n",
    "- `profile.jpg`: and use my profile picture"
   ]
  },
  {
   "cell_type": "code",
   "execution_count": 3,
   "metadata": {},
   "outputs": [
    {
     "name": "stdout",
     "output_type": "stream",
     "text": [
      "/.quarto/\n",
      ".*\n",
      "!.gitignore\n",
      "!.github\n"
     ]
    }
   ],
   "source": [
    "!cat ../.gitignore"
   ]
  },
  {
   "cell_type": "markdown",
   "metadata": {},
   "source": [
    "## preview"
   ]
  },
  {
   "cell_type": "markdown",
   "metadata": {},
   "source": [
    "```bash\n",
    "quarto preview\n",
    "```"
   ]
  },
  {
   "cell_type": "markdown",
   "metadata": {},
   "source": [
    "Here we can fix many thinks, and auto update rendered pages is just excellent!\n",
    "\n",
    "* move images from posts to posts/images (have to restart quarto preview after that)\n",
    "* delete the 2 examples (welcome and post-with-code)\n",
    "\n",
    "Will have to browse through all the site to see if all is properly rendered. \n",
    "> fix for broken links or Jekyll shortcodes (things with {% ... %}) that need to be converted to Quarto. Search the the Quarto documentation if you need help locating specific Quarto features.\n",
    "\n"
   ]
  },
  {
   "cell_type": "markdown",
   "metadata": {},
   "source": [
    "## keep git repo in sync"
   ]
  },
  {
   "cell_type": "markdown",
   "metadata": {},
   "source": [
    "```bash\n",
    "NOW=`date '+%F_%H:%M'`;\n",
    "git add .\n",
    "git commit -m \"$NOW\"\n",
    "git push\n",
    "```"
   ]
  },
  {
   "cell_type": "markdown",
   "metadata": {},
   "source": [
    "## publication to gh-pages using gh-actions"
   ]
  },
  {
   "cell_type": "markdown",
   "metadata": {},
   "source": [
    "There are 2 ways to publish. A straightforword one by calling `quarto publish`. And a more advanced one with github actions.\n",
    "\n",
    "Using my corporate PC, `quarto publish` fails so I will give github actions a try.\n",
    "\n",
    "### quarto publish\n",
    "\n",
    "```bash\n",
    "quarto publish gh-pages\n",
    "```\n",
    "\n",
    ":heavy_check_mark: This is ok when publishing with home PC. \n",
    "\n",
    ":x: But fails when publishing with corporate PC.see below [quarto publishing issue behind firewall](#quarto-publishing-issue-behind-firewall)"
   ]
  },
  {
   "cell_type": "markdown",
   "metadata": {},
   "source": [
    "shared it with community at discord:\n",
    "https://discord.com/channels/689892369998676007/1020178609605984267/1020631703653462038"
   ]
  },
  {
   "cell_type": "markdown",
   "metadata": {},
   "source": [
    "### github actions\n",
    "\n",
    "as explained in https://quarto.org/docs/publishing/github-pages.html#github-action\n",
    "\n",
    "\n",
    "1st step is to decide where code is executed:\n",
    "* local execution and rendering\n",
    "* local execution with CI rendering\n",
    "* CI execution and rendering\n",
    "\n",
    "I think I will go for local execution and rendering.\n",
    "\n",
    "#### freezing computations\n",
    "\n",
    "To be added to `_quarto.yml`\n",
    "```text\n",
    "execute:\n",
    "  freeze: auto\n",
    "```\n",
    "\n",
    "And then `quarto render`\n",
    "\n",
    "#### publish actions\n",
    "\n",
    "Add a publish.yml GitHub Action to your project by creating this YAML file and saving it to .github/workflows/publish.yml:\n",
    "\n",
    "```text\n",
    "on:\n",
    "  workflow_dispatch:\n",
    "  push:\n",
    "    branches: main\n",
    "\n",
    "name: Quarto Publish\n",
    "\n",
    "jobs:\n",
    "  build-deploy:\n",
    "    runs-on: ubuntu-latest\n",
    "    permissions:\n",
    "      contents: write\n",
    "    steps:\n",
    "      - name: Check out repository\n",
    "        uses: actions/checkout@v2\n",
    "\n",
    "      - name: Set up Quarto\n",
    "        uses: quarto-dev/quarto-actions/setup@v2\n",
    "\n",
    "      - name: Render and Publish\n",
    "        uses: quarto-dev/quarto-actions/publish@v2\n",
    "        with:\n",
    "          target: gh-pages\n",
    "        env:\n",
    "          GITHUB_TOKEN: ${{ secrets.GITHUB_TOKEN }}\n",
    "```\n",
    "\n",
    "We can now remove the publish command from `publish.sh`\n",
    "\n",
    "And remove _site/ from `.gitignore` \n",
    "\n"
   ]
  },
  {
   "cell_type": "markdown",
   "metadata": {},
   "source": [
    "## open external links in new tabs"
   ]
  },
  {
   "cell_type": "markdown",
   "metadata": {},
   "source": [
    "thanks to https://quarto.org/docs/reference/formats/html.html#links"
   ]
  },
  {
   "cell_type": "code",
   "execution_count": 16,
   "metadata": {},
   "outputs": [
    {
     "name": "stdout",
     "output_type": "stream",
     "text": [
      "    link-external-icon: true\n",
      "    link-external-newwindow: true\n",
      "    link-external-filter: ^(?:http:|https:)\\/\\/castorfou\\.github\\.io\\/\n",
      "\n",
      "\n"
     ]
    }
   ],
   "source": [
    "!cat ../_quarto.yml |grep -A 2 external"
   ]
  },
  {
   "cell_type": "markdown",
   "metadata": {},
   "source": [
    "## setup favicon.ico"
   ]
  },
  {
   "cell_type": "markdown",
   "metadata": {},
   "source": [
    "Creation of a favicon for this blog. Using [gimp](https://www.gimp.org/tutorials/CircleImage/)\n",
    " \n",
    "And quarto [doc for favicon](https://quarto.org/docs/websites/website-tools.html#favicon)\n",
    "\n"
   ]
  },
  {
   "cell_type": "code",
   "execution_count": 4,
   "metadata": {},
   "outputs": [
    {
     "name": "stdout",
     "output_type": "stream",
     "text": [
      "website:\n",
      "  title: \"Guillaume's blog\"\n",
      "  favicon: favicon_small.png\n"
     ]
    }
   ],
   "source": [
    "!cat ../_quarto.yml |grep -B 2 favico"
   ]
  },
  {
   "cell_type": "markdown",
   "metadata": {},
   "source": [
    "And `favicon_small.png` is just at root."
   ]
  },
  {
   "cell_type": "code",
   "execution_count": 1,
   "metadata": {
    "execution": {
     "iopub.execute_input": "2023-01-19T07:09:26.106099Z",
     "iopub.status.busy": "2023-01-19T07:09:26.105606Z",
     "iopub.status.idle": "2023-01-19T07:09:28.531126Z",
     "shell.execute_reply": "2023-01-19T07:09:28.530318Z",
     "shell.execute_reply.started": "2023-01-19T07:09:26.106050Z"
    }
   },
   "outputs": [
    {
     "name": "stdout",
     "output_type": "stream",
     "text": [
      "../favicon_small.png\n",
      "../_site/favicon_small.png\n"
     ]
    }
   ],
   "source": [
    "!find ../  -name 'favicon_small.png'"
   ]
  },
  {
   "cell_type": "markdown",
   "metadata": {},
   "source": [
    "## setup RSS feed"
   ]
  },
  {
   "cell_type": "markdown",
   "metadata": {},
   "source": [
    "Discussing with my colleague Jerome, he was interested to get RSS feed from my blog.\n",
    "\n",
    "I was kind of reluctant because it is not really a blog, it is more a wiki-log. I constantly update articles, sometimes months after the 1st publication.\n",
    "\n",
    "Anyway, here is how I did to activate RSS feed: just add the option `feed: true` in `index.qmd`"
   ]
  },
  {
   "cell_type": "code",
   "execution_count": 5,
   "metadata": {
    "execution": {
     "iopub.execute_input": "2023-01-19T07:14:16.659354Z",
     "iopub.status.busy": "2023-01-19T07:14:16.659159Z",
     "iopub.status.idle": "2023-01-19T07:14:16.772342Z",
     "shell.execute_reply": "2023-01-19T07:14:16.771659Z",
     "shell.execute_reply.started": "2023-01-19T07:14:16.659341Z"
    },
    "tags": []
   },
   "outputs": [
    {
     "name": "stdout",
     "output_type": "stream",
     "text": [
      "---\n",
      "title: \"blog\"\n",
      "listing:\n",
      "  contents: posts\n",
      "  sort: \"date desc\"\n",
      "  type: default\n",
      "  categories: true\n",
      "  sort-ui: false\n",
      "  filter-ui: true\n",
      "  \u001b[01;31m\u001b[Kfeed: true\u001b[m\u001b[K\n",
      "page-layout: full\n",
      "title-block-banner: false\n",
      "---\n",
      "\n",
      "\n",
      "\u0000"
     ]
    }
   ],
   "source": [
    "!cat ../index.qmd | grep --color=always -z 'feed: true'"
   ]
  },
  {
   "attachments": {
    "f083faf4-fb32-43c8-b47e-fcfbb8a841ba.png": {
     "image/png": "[encoded data removed]"
    }
   },
   "cell_type": "markdown",
   "metadata": {},
   "source": [
    "And here is the result in Feedly\n",
    "\n",
    "<div>\n",
    "   <img src=\"attachment:f083faf4-fb32-43c8-b47e-fcfbb8a841ba.png\" width=\"300\">\n",
    "</div>"
   ]
  },
  {
   "cell_type": "markdown",
   "metadata": {},
   "source": [
    "### to be improved"
   ]
  },
  {
   "cell_type": "markdown",
   "metadata": {},
   "source": [
    "- no icon in feedly for this feed (I would like it to use my favicon)\n",
    "- when publishing an update on article, create new entry in rss feed"
   ]
  },
  {
   "cell_type": "markdown",
   "metadata": {},
   "source": [
    "## (tbd) detect broken links"
   ]
  },
  {
   "cell_type": "markdown",
   "metadata": {},
   "source": [
    "[Guillaume’s blog - Logbook for October 22](/posts/2022-10-01-logbook-October-22.html#week-42---october-22)\n",
    "\n",
    "> And have to figure out a way to detect broken links:\n",
    "> \n",
    "> -   using [google search console](https://search.google.com/u/0/search-console?resource_id=https%3A%2F%2Fcastorfou.github.io%2Fblog%2F)\n",
    "> \n",
    "> As it takes a day to be processed I will test again tomorrow"
   ]
  },
  {
   "cell_type": "markdown",
   "metadata": {},
   "source": [
    "## change theme and allow light/dark mode"
   ]
  },
  {
   "cell_type": "code",
   "execution_count": 13,
   "metadata": {},
   "outputs": [
    {
     "name": "stdout",
     "output_type": "stream",
     "text": [
      "    theme: \n",
      "      light: journal\n",
      "      dark: darkly\n"
     ]
    }
   ],
   "source": [
    "!cat ../_quarto.yml | grep -A2 theme"
   ]
  },
  {
   "cell_type": "markdown",
   "metadata": {},
   "source": [
    "And to have a light banner in the landing page"
   ]
  },
  {
   "cell_type": "code",
   "execution_count": 12,
   "metadata": {},
   "outputs": [
    {
     "name": "stdout",
     "output_type": "stream",
     "text": [
      "title-block-banner: false\n"
     ]
    }
   ],
   "source": [
    "!cat ../index.qmd | grep banner"
   ]
  },
  {
   "cell_type": "markdown",
   "metadata": {},
   "source": [
    "## (tbd) fix latex expressions"
   ]
  },
  {
   "cell_type": "markdown",
   "metadata": {},
   "source": [
    "## (tbd) google analytics on blog"
   ]
  },
  {
   "cell_type": "markdown",
   "metadata": {},
   "source": [
    "[Guillaume’s blog - Logbook for October 22](/posts/2022-10-01-logbook-October-22.html#week-42---october-22)\n",
    "\n",
    "> Setup [google analytics](https://support.google.com/analytics/answer/9539598?hl=en), get G- Id, and update `_quarto.yml` accordingly as explained in [quarto doc](https://quarto.org/docs/websites/website-tools.html#google-analytics).\n",
    "> \n",
    "> Analytics available [here](https://analytics.google.com/analytics/web/?utm_source=marketingplatform.google.com&utm_medium=et&utm_campaign=marketingplatform.google.com%2Fabout%2Fanalytics%2F#/p338279857/reports/intelligenthome)"
   ]
  },
  {
   "cell_type": "markdown",
   "metadata": {},
   "source": [
    "## (tbd) allow comments"
   ]
  },
  {
   "cell_type": "markdown",
   "metadata": {},
   "source": [
    "# Publication process"
   ]
  },
  {
   "cell_type": "code",
   "execution_count": 1,
   "metadata": {
    "tags": []
   },
   "outputs": [
    {
     "name": "stdout",
     "output_type": "stream",
     "text": [
      "NOW=`date '+%F_%H:%M'`;\n",
      "#quarto render\n",
      "git add .\n",
      "git commit -m \"$NOW\"\n",
      "git push\n",
      "#quarto publish gh-pages --no-prompt\n"
     ]
    }
   ],
   "source": [
    "!cat ../publish.sh"
   ]
  },
  {
   "cell_type": "markdown",
   "metadata": {},
   "source": [
    "# Issues / improvments"
   ]
  },
  {
   "cell_type": "markdown",
   "metadata": {},
   "source": [
    "## [workaround] quarto publishing issue behind firewall"
   ]
  },
  {
   "cell_type": "markdown",
   "metadata": {},
   "source": [
    "Identical to error happening when installing quarto extension\n",
    "\n",
    "https://github.com/quarto-ext/video/issues/27\n",
    "\n",
    "\n",
    "```bash\n",
    "$ quarto publish\n",
    "? Publish update to: › https://castorfou.github.io/blog/ (GitHub Pages)\n",
    "From https://github.com/castorfou/blog\n",
    " * branch            gh-pages   -> FETCH_HEAD\n",
    " \n",
    "origin  https://github.com/castorfou/blog.git (fetch)\n",
    "origin  https://github.com/castorfou/blog.git (push)\n",
    "To https://github.com/castorfou/blog.git\n",
    " + 0a3710d...1aeaf23 HEAD -> gh-pages (forced update)\n",
    "fatal: 'fadc274b' is not a working tree\n",
    "\n",
    "NOTE: GitHub Pages sites use caching so you might need to click the refresh\n",
    "button within your web browser to see changes after deployment.\n",
    "\n",
    "(\\) Deploying gh-pages branch to website (this may take a few minutes)Sending fatal alert BadCertificate\n",
    "[✓] Deploying gh-pages branch to website (this may take a few minutes)\n",
    "ERROR: TypeError: error sending request for url (https://castorfou.github.io/blog/.nojekyll): error trying to connect: invalid peer certificate contents: invalid peer certificate: UnknownIssuer\n",
    "```"
   ]
  },
  {
   "cell_type": "markdown",
   "metadata": {},
   "source": [
    "For context, I use quarto as a replacement of fastai/fastpages and followed a migration guide from Hamel Hussain asking for this installation.\n",
    "\n",
    "And I'm in a corporate environment with transparent proxies and self signed certificates. \n",
    "My system has updated CERT in /usr/local/share/ca-certificates/, and SSL_CERT_FILE environment variable pointing to updated corporate pem.\n",
    "\n",
    "```\n",
    "$ quarto install extension quarto-ext/lightbox\n",
    "Sending fatal alert BadCertificate\n",
    "ERROR: TypeError: error sending request for url (https://github.com/quarto-ext/lightbox/archive/refs/heads/main.tar.gz): error trying to connect: invalid peer certificate contents: invalid peer certificate: UnknownIssuer\n",
    "```\n",
    "It fails with the same message. \n",
    "When I run `quarto publish` I have the same issue.\n"
   ]
  },
  {
   "cell_type": "markdown",
   "metadata": {},
   "source": [
    "One option is to use github actions as explained in [publication to gh-pages using gh-actions](/posts/2022-09-16-migrate%20blog%20from%20nbdev%20to%20quarto.html#publication-to-gh-pages-using-gh-actions). "
   ]
  },
  {
   "cell_type": "markdown",
   "metadata": {},
   "source": [
    "## [workaround] inline images are not properly rendered"
   ]
  },
  {
   "cell_type": "markdown",
   "metadata": {},
   "source": [
    "analysis made at [inline images from jupyter with quarto](/posts/2022-09-23-inline-images-with-quarto.html)\n",
    "\n",
    "short answer: use jupyter lab to blog"
   ]
  },
  {
   "cell_type": "markdown",
   "metadata": {},
   "source": [
    "## Albert Rapp as an example"
   ]
  },
  {
   "cell_type": "markdown",
   "metadata": {},
   "source": [
    "https://albert-rapp.de/posts/13_quarto_blog_writing_guide/13_quarto_blog_writing_guide.html"
   ]
  },
  {
   "cell_type": "markdown",
   "metadata": {},
   "source": [
    "## [workaround] links are not rendered as links"
   ]
  },
  {
   "cell_type": "markdown",
   "metadata": {},
   "source": [
    "in jupyter, just typing url turns it into a link. Not with quarto: https://castorfou.github.io/blog/\n",
    "\n",
    "anyway to do it ?\n",
    "\n",
    "[https://github.com/quarto-dev/quarto-cli/discussions/2609](https://github.com/quarto-dev/quarto-cli/discussions/2609)"
   ]
  },
  {
   "cell_type": "markdown",
   "metadata": {},
   "source": [
    "### suggestions"
   ]
  },
  {
   "cell_type": "markdown",
   "metadata": {},
   "source": [
    "First one is to surround url with pointy braces '<>'\n",
    "\n",
    "Does it work: <https://pandoc.org/MANUAL.html#links-1>"
   ]
  },
  {
   "cell_type": "markdown",
   "metadata": {},
   "source": [
    "And better one (?) would be to run pandoc with [autolink_bare_uris](https://pandoc.org/MANUAL.html#extension-autolink_bare_uris)\n"
   ]
  },
  {
   "attachments": {
    "98d6bda2-f07a-4b7d-bfaf-68dc5f46130f.png": {
     "image/png": "[encoded data removed]"
    }
   },
   "cell_type": "markdown",
   "metadata": {},
   "source": [
    "Just modifying `_quarto.yml` in ( format > html > from ) option\n",
    "\n",
    "![image.png](attachment:98d6bda2-f07a-4b7d-bfaf-68dc5f46130f.png)"
   ]
  },
  {
   "cell_type": "code",
   "execution_count": 8,
   "metadata": {},
   "outputs": [
    {
     "name": "stdout",
     "output_type": "stream",
     "text": [
      "  html:\n",
      "    theme: \n",
      "      light: journal\n",
      "      dark: darkly\n",
      "    css: styles.css\n",
      "    from: markdown+autolink_bare_uris\n"
     ]
    }
   ],
   "source": [
    "!cat ../_quarto.yml | grep -B5 autolink"
   ]
  },
  {
   "cell_type": "markdown",
   "metadata": {},
   "source": [
    "## quarto updated to version 1.2.269"
   ]
  },
  {
   "cell_type": "markdown",
   "metadata": {},
   "source": [
    "```bash\n",
    "~/temp$ wget https://github.com/quarto-dev/quarto-cli/releases/download/v1.2.269/quarto-1.2.269-linux-amd64.deb\n",
    "~/temp$ sudo apt install ./quarto-1.2.269-linux-amd64.deb \n",
    "~/temp$ quarto -V\n",
    "1.2.269\n",
    "```"
   ]
  },
  {
   "cell_type": "markdown",
   "metadata": {},
   "source": [
    "I don't know what is the changelog. Looks like we don't need to install video extension anymore. (quarto install extension quarto-ext/video)"
   ]
  },
  {
   "cell_type": "markdown",
   "metadata": {},
   "source": [
    "```bash\n",
    "~/git/blog$ quarto remove extension quarto-ext/video\n",
    "```"
   ]
  },
  {
   "cell_type": "markdown",
   "metadata": {},
   "source": [
    "I have started a [thread](https://forums.fast.ai/t/new-quarto-version-whats-new/102042) in fastai forum. There are updates with widget states and inline images. Update worth running!"
   ]
  },
  {
   "cell_type": "code",
   "execution_count": null,
   "metadata": {},
   "outputs": [],
   "source": []
  }
 ],
 "metadata": {
  "kernelspec": {
   "display_name": "fastai",
   "language": "python",
   "name": "fastai"
  },
  "language_info": {
   "codemirror_mode": {
    "name": "ipython",
    "version": 3
   },
   "file_extension": ".py",
   "mimetype": "text/x-python",
   "name": "python",
   "nbconvert_exporter": "python",
   "pygments_lexer": "ipython3",
   "version": "3.10.9"
  },
  "toc": {
   "base_numbering": 1,
   "nav_menu": {},
   "number_sections": true,
   "sideBar": true,
   "skip_h1_title": false,
   "title_cell": "Table of Contents",
   "title_sidebar": "Contents",
   "toc_cell": false,
   "toc_position": {
    "height": "calc(100% - 180px)",
    "left": "10px",
    "top": "150px",
    "width": "367.198px"
   },
   "toc_section_display": true,
   "toc_window_display": true
  }
 },
 "nbformat": 4,
 "nbformat_minor": 4
}
