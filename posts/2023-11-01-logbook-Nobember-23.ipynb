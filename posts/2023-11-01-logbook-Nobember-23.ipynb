{
 "cells": [
  {
   "cell_type": "raw",
   "id": "cb1fa2df-fd88-4efc-a58f-3083a36bc982",
   "metadata": {},
   "source": [
    "---\n",
    "title: \"Logbook for November 23\"\n",
    "description: \"\"\n",
    "date: \"11/01/2023\"\n",
    "categories:\n",
    "  - logbook\n",
    "  - jupyter\n",
    "image: /images/logbook.jpg\n",
    "toc: true\n",
    "show_tags: true\n",
    "---"
   ]
  },
  {
   "cell_type": "markdown",
   "id": "edf84969-ae1c-48a7-b3bb-bdbf9b4437e2",
   "metadata": {},
   "source": [
    "jupyter lab upgrade procedure"
   ]
  },
  {
   "cell_type": "markdown",
   "id": "464474cf-054a-4ad8-ba02-9fed99d13126",
   "metadata": {},
   "source": [
    "# Week 47 - November 23"
   ]
  },
  {
   "cell_type": "markdown",
   "id": "78aca09f-be88-4cbd-a124-d212ffc14e77",
   "metadata": {
    "tags": []
   },
   "source": [
    "## Monday 11/20"
   ]
  },
  {
   "cell_type": "markdown",
   "id": "4af734ab-94c2-4ac8-9603-0124fdffeb8d",
   "metadata": {
    "tags": []
   },
   "source": [
    "In case of update detected in jupyter lab version.\n",
    "\n",
    "Here is my procedure.\n",
    "\n",
    "```bash\n",
    "mamba activate base_jupyter_v4\n",
    "sudo systemctl stop jupyterlab\n",
    "mamba update --strict-channel-priority -c conda-forge -c nodefaults  jupyterlab\n",
    "sudo systemctl start jupyterlab\n",
    "```"
   ]
  },
  {
   "cell_type": "code",
   "execution_count": null,
   "id": "e9747b03-6aae-4224-87e4-98d582e779e5",
   "metadata": {},
   "outputs": [],
   "source": []
  }
 ],
 "metadata": {
  "kernelspec": {
   "display_name": "Python [conda env:fastai]",
   "language": "python",
   "name": "conda-env-fastai-py"
  },
  "language_info": {
   "codemirror_mode": {
    "name": "ipython",
    "version": 3
   },
   "file_extension": ".py",
   "mimetype": "text/x-python",
   "name": "python",
   "nbconvert_exporter": "python",
   "pygments_lexer": "ipython3",
   "version": "3.11.5"
  },
  "toc": {
   "base_numbering": 1,
   "nav_menu": {},
   "number_sections": true,
   "sideBar": true,
   "skip_h1_title": false,
   "title_cell": "Table of Contents",
   "title_sidebar": "Contents",
   "toc_cell": false,
   "toc_position": {},
   "toc_section_display": true,
   "toc_window_display": true
  }
 },
 "nbformat": 4,
 "nbformat_minor": 5
}
