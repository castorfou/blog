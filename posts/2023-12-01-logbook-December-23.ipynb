{
 "cells": [
  {
   "cell_type": "raw",
   "id": "cb1fa2df-fd88-4efc-a58f-3083a36bc982",
   "metadata": {},
   "source": [
    "---\n",
    "title: \"Logbook for December 23\"\n",
    "description: \"\"\n",
    "date: \"12/01/2023\"\n",
    "categories:\n",
    "  - logbook\n",
    "  - wsl\n",
    "  - wsl_latest\n",
    "image: /images/logbook.jpg\n",
    "toc: true\n",
    "show_tags: true\n",
    "---"
   ]
  },
  {
   "cell_type": "markdown",
   "id": "edf84969-ae1c-48a7-b3bb-bdbf9b4437e2",
   "metadata": {},
   "source": [
    "wsl (vpnkit as a service, apt trick for GP)"
   ]
  },
  {
   "cell_type": "markdown",
   "id": "464474cf-054a-4ad8-ba02-9fed99d13126",
   "metadata": {},
   "source": [
    "# Week 48 - December 23"
   ]
  },
  {
   "cell_type": "markdown",
   "id": "78aca09f-be88-4cbd-a124-d212ffc14e77",
   "metadata": {
    "tags": []
   },
   "source": [
    "## Friday 12/01"
   ]
  },
  {
   "cell_type": "markdown",
   "id": "2bcf475f-e74e-4ede-a8bd-b8214f23d354",
   "metadata": {},
   "source": [
    "### wsl-vpnkit as a service"
   ]
  },
  {
   "cell_type": "markdown",
   "id": "ecbbe94b",
   "metadata": {},
   "source": [
    "[wsl-vpnkit](https://github.com/sakai135/wsl-vpnkit/releases) v0.4 does not support running wsl-vpnkit using `wsl.exe -d wsl-vpnkit service wsl-vpnkit start`. A systemd service file is provided to help us setup a systemd service in distro to run wsl-vpnkit in the background."
   ]
  },
  {
   "cell_type": "markdown",
   "id": "c17b0259-9d13-4abb-8b9b-9967239811c4",
   "metadata": {},
   "source": [
    "Here are the steps:\n",
    "\n",
    "**dependencies**\n",
    "```bash\n",
    "sudo apt install -y iproute2 iptables iputils-ping dnsutils wget\n",
    "```\n",
    "\n",
    "**binary installation**\n",
    "```bash\n",
    "VERSION=v0.4.1\n",
    "sudo mkdir -p /opt/vpnkit\n",
    "\n",
    "cd /opt/vpnkit\n",
    "sudo wget https://github.com/sakai135/wsl-vpnkit/releases/download/$VERSION/wsl-vpnkit.tar.gz\n",
    "sudo tar --strip-components=1 -xzf wsl-vpnkit.tar.gz \\\n",
    "  app/wsl-vpnkit \\\n",
    "  app/wsl-gvproxy.exe \\\n",
    "  app/wsl-vm \\\n",
    "  app/wsl-vpnkit.service \\\n",
    "  -C /opt/vpnkit\n",
    "sudo rm wsl-vpnkit.tar.gz\n",
    "\n",
    "cd -\n",
    "```\n",
    "\n",
    "**configuration**\n",
    "```bash\n",
    "sudo cat <<'EOT' > /opt/vpnkit/wsl-vpnkit.service\n",
    "[Unit]\n",
    "Description=wsl-vpnkit\n",
    "\n",
    "[Service]\n",
    "# for wsl-vpnkit setup as a standalone script\n",
    "# important to set type to idle, we want the service to be one of the last ones to be executed\n",
    "Type=idle\n",
    "# before running the wsl-vpnkit script we want to provide the correct WSL_INTEROP variable\n",
    "ExecStart=/bin/sh -c '. /opt/vpnkit/wsl-interop-env.sh; /opt/vpnkit/wsl-vpnkit'\n",
    "Environment=VMEXEC_PATH=/opt/vpnkit/wsl-vm\n",
    "Environment=GVPROXY_PATH=/opt/vpnkit/wsl-gvproxy.exe\n",
    "\n",
    "Restart=always\n",
    "KillMode=mixed\n",
    "\n",
    "[Install]\n",
    "WantedBy=multi-user.target\n",
    "EOT\n",
    "\n",
    "\n",
    "sudo cat <<'EOT' > /opt/vpnkit/wsl-interop-env.sh\n",
    "#!/bin/sh\n",
    "\n",
    "export WSL_INTEROP=\n",
    "for socket in $(ls /run/WSL|sort -n); do\n",
    "if ss -elx | grep \"$socket\"; then\n",
    "  export WSL_INTEROP=/run/WSL/$socket\n",
    "else\n",
    "  rm $socket\n",
    "fi\n",
    "done\n",
    "EOT\n",
    "\n",
    "sudo chmod +x /opt/vpnkit/wsl-interop-env.sh\n",
    "sudo cp /opt/vpnkit/wsl-vpnkit.service /etc/systemd/system/\n",
    "sudo systemctl enable wsl-vpnkit.service\n",
    "```\n",
    "\n",
    "**start service**\n",
    "```bash\n",
    "sudo systemctl start wsl-vpnkit.service\n",
    "```"
   ]
  },
  {
   "cell_type": "markdown",
   "id": "e097f261-d4ea-40b7-a8f3-da1e542a7510",
   "metadata": {},
   "source": [
    "and to test\n",
    "\n",
    "from powershell\n",
    "```shell\n",
    "wsl -t wsl-vpnkit\n",
    "```\n",
    "\n",
    "from wsl image\n",
    "```bash\n",
    "host google.fr\n",
    "```\n",
    "\n",
    "we can see `wsl-vpnkit` logs with `sudo systemctl status wsl-vpnkit.service`\n",
    "\n",
    "and as soon as it is ok, we can unregister wsl-vpnkit\n",
    "\n",
    "```shell\n",
    "wsl --unregister wsl-vpnkit\n",
    "```"
   ]
  },
  {
   "cell_type": "markdown",
   "id": "3add7cd6-eb7f-4ca6-b14f-518727a85cb3",
   "metadata": {},
   "source": [
    "### apt trick for GP"
   ]
  },
  {
   "cell_type": "markdown",
   "id": "2a0e3a7b-2db8-4bab-8367-87dc7cf37158",
   "metadata": {},
   "source": [
    "This allows apt connectivity with GP\n",
    "\n",
    "```bash\n",
    "# Update apt conf for global protect\n",
    "echo \"*** Configuring apt User-Agent for GlobalProtect compatibility\"\n",
    "# RANDOM doesn't like subshell so we need to generate the value beforehand\n",
    "# Generate a random integer with a range between 1 and 32 used for User-Agent generation\n",
    "random_int=$((1 + RANDOM % 32))\n",
    "# Generate a random string User-Agent to trick GlobalProtect :wink:\n",
    "random_useragent=$(tr -dc A-Za-z0-9 < /dev/urandom | head -c $random_int)\n",
    "\n",
    "cat << ESH > /etc/apt/apt.conf.d/90globalprotectconf\n",
    "Acquire {\n",
    "  http::User-Agent \"$random_useragent\";\n",
    "  https::User-Agent \"$random_useragent\";\n",
    "};\n",
    "ESH\n",
    "```\n",
    "\n",
    "as root"
   ]
  },
  {
   "cell_type": "code",
   "execution_count": null,
   "id": "043c716a-d2cb-4add-b432-1a8d828614e0",
   "metadata": {},
   "outputs": [],
   "source": []
  }
 ],
 "metadata": {
  "kernelspec": {
   "display_name": "Python [conda env:fastai]",
   "language": "python",
   "name": "conda-env-fastai-py"
  },
  "language_info": {
   "codemirror_mode": {
    "name": "ipython",
    "version": 3
   },
   "file_extension": ".py",
   "mimetype": "text/x-python",
   "name": "python",
   "nbconvert_exporter": "python",
   "pygments_lexer": "ipython3",
   "version": "3.11.5"
  },
  "toc": {
   "base_numbering": 1,
   "nav_menu": {},
   "number_sections": true,
   "sideBar": true,
   "skip_h1_title": false,
   "title_cell": "Table of Contents",
   "title_sidebar": "Contents",
   "toc_cell": false,
   "toc_position": {},
   "toc_section_display": true,
   "toc_window_display": true
  }
 },
 "nbformat": 4,
 "nbformat_minor": 5
}
