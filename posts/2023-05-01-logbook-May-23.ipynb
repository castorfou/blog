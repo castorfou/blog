{
 "cells": [
  {
   "cell_type": "raw",
   "id": "cb1fa2df-fd88-4efc-a58f-3083a36bc982",
   "metadata": {},
   "source": [
    "---\n",
    "title: \"Logbook for May 23\"\n",
    "description: \"\"\n",
    "date: \"05/01/2023\"\n",
    "categories:\n",
    "  - logbook\n",
    "image: /images/logbook.jpg\n",
    "toc: true\n",
    "show_tags: true\n",
    "---"
   ]
  },
  {
   "cell_type": "markdown",
   "id": "464474cf-054a-4ad8-ba02-9fed99d13126",
   "metadata": {},
   "source": [
    "# Week 20 - May 23"
   ]
  },
  {
   "cell_type": "markdown",
   "id": "4af734ab-94c2-4ac8-9603-0124fdffeb8d",
   "metadata": {},
   "source": [
    "## Tuesday 05/16"
   ]
  },
  {
   "cell_type": "markdown",
   "id": "e552ded1-bfc5-4288-a4f6-67d0c8169e7d",
   "metadata": {},
   "source": [
    "### jupyter 4.0 is out"
   ]
  },
  {
   "cell_type": "markdown",
   "id": "58dc67ab-e74f-409d-ad4e-f3fc3891d78a",
   "metadata": {},
   "source": [
    "https://github.com/jupyterlab/jupyterlab/releases/tag/v4.0.0"
   ]
  },
  {
   "cell_type": "markdown",
   "id": "9d0f5c80-14fe-43ea-8460-c1b404aea6b0",
   "metadata": {},
   "source": [
    "To update\n",
    "\n",
    "```bash\n",
    "conda activate base_jupyter\n",
    "conda update jupyterlab\n",
    "```\n",
    "\n",
    "it is not yet in conda repos, and I will try later.\n",
    "\n",
    "Is there a way to be notified when a monitored package is updated?"
   ]
  },
  {
   "cell_type": "code",
   "execution_count": null,
   "id": "106a72e6-78c3-4c47-8e85-3dff576e1f44",
   "metadata": {},
   "outputs": [],
   "source": []
  }
 ],
 "metadata": {
  "kernelspec": {
   "display_name": "Python 3 (ipykernel)",
   "language": "python",
   "name": "python3"
  },
  "language_info": {
   "codemirror_mode": {
    "name": "ipython",
    "version": 3
   },
   "file_extension": ".py",
   "mimetype": "text/x-python",
   "name": "python",
   "nbconvert_exporter": "python",
   "pygments_lexer": "ipython3",
   "version": "3.9.15"
  },
  "toc": {
   "base_numbering": 1,
   "nav_menu": {},
   "number_sections": true,
   "sideBar": true,
   "skip_h1_title": false,
   "title_cell": "Table of Contents",
   "title_sidebar": "Contents",
   "toc_cell": false,
   "toc_position": {},
   "toc_section_display": true,
   "toc_window_display": true
  }
 },
 "nbformat": 4,
 "nbformat_minor": 5
}
