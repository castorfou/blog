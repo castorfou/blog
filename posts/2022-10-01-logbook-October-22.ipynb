{
 "cells": [
  {
   "cell_type": "raw",
   "id": "cb1fa2df-fd88-4efc-a58f-3083a36bc982",
   "metadata": {},
   "source": [
    "---\n",
    "title: \"Logbook for October 22\"\n",
    "description: \"\"\n",
    "date: \"10/01/2022\"\n",
    "categories:\n",
    "  - logbook\n",
    "image: /images/logbook.jpg\n",
    "toc: true\n",
    "show_tags: true\n",
    "---"
   ]
  },
  {
   "cell_type": "markdown",
   "id": "9c0d863d-a20b-434b-8a9e-75cd771ce01c",
   "metadata": {},
   "source": [
    "## Week 40 - October 22"
   ]
  },
  {
   "cell_type": "markdown",
   "id": "16d8aa62-5e87-43f5-a550-4f63234eea79",
   "metadata": {},
   "source": [
    "**Friday 10/7**"
   ]
  },
  {
   "cell_type": "markdown",
   "id": "9e4149ff-fe6f-46c7-ad44-a8e6c75f391d",
   "metadata": {},
   "source": [
    "Just playing with huggingface projects.\n",
    "\n",
    "\n",
    "Weekly someone from HF publishes **news of the week**\n",
    "\n",
    "Last 2 weeks, Thomas Simonini has sent updates on Transformers, Stable Diffusion. [09/27](https://discord.com/channels/879548962464493619/897387888663232554/1023968170094104596) [10/03](https://discord.com/channels/879548962464493619/897387888663232554/1026502106036842617)\n",
    "\n",
    "And just playing with these apps, I realize it has been developped using [gradio](https://github.com/gradio-app/gradio). Should be nice to give a test. Could be usefull for this project: drag&drop badminton players spreadsheet, and return one with uptodate ranks"
   ]
  },
  {
   "cell_type": "code",
   "execution_count": null,
   "id": "4adcb4aa-27f4-479f-b5e0-533a1bb8ecec",
   "metadata": {},
   "outputs": [],
   "source": []
  }
 ],
 "metadata": {
  "kernelspec": {
   "display_name": "dataset_tools",
   "language": "python",
   "name": "dataset_tools"
  },
  "language_info": {
   "codemirror_mode": {
    "name": "ipython",
    "version": 3
   },
   "file_extension": ".py",
   "mimetype": "text/x-python",
   "name": "python",
   "nbconvert_exporter": "python",
   "pygments_lexer": "ipython3",
   "version": "3.9.13"
  },
  "toc": {
   "base_numbering": 1,
   "nav_menu": {},
   "number_sections": true,
   "sideBar": true,
   "skip_h1_title": false,
   "title_cell": "Table of Contents",
   "title_sidebar": "Contents",
   "toc_cell": false,
   "toc_position": {},
   "toc_section_display": true,
   "toc_window_display": true
  }
 },
 "nbformat": 4,
 "nbformat_minor": 5
}
