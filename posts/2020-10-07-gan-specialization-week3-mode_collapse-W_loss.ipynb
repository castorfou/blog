{
 "cells": [
  {
   "cell_type": "raw",
   "metadata": {},
   "source": [
    "---\n",
    "aliases:\n",
    "- /gan/pytorch/2020/10/07/gan-specialization-week3-mode_collapse-W_loss\n",
    "badges: false\n",
    "branch: master\n",
    "categories:\n",
    "- gan\n",
    "- pytorch\n",
    "date: '2020-10-07'\n",
    "description: from Sharon Zhou, deeplearning.ai. What I have learnt from gan specialization\n",
    "  course 1 (Build Basic GAN) on week 3\n",
    "output-file: 2020-10-07-gan-specialization-week3-mode_collapse-w_loss.html\n",
    "show_tags: true\n",
    "title: GAN Specialization course 1 week 3 - mode collapse, vanishing gradient, wasserstein\n",
    "  loss\n",
    "toc: true\n",
    "\n",
    "---\n",
    "\n"
   ]
  },
  {
   "cell_type": "markdown",
   "metadata": {},
   "source": [
    "# Mode collapse, Vanishing gradient"
   ]
  },
  {
   "cell_type": "markdown",
   "metadata": {},
   "source": [
    "Very good explanation about why it happens. Flat region when discriminator is learning faster (it has an easier job) than generator.\n",
    "\n",
    "![alt text](../images/gan_spe_W3_0001.jpg \"gan week3-1\")"
   ]
  },
  {
   "cell_type": "markdown",
   "metadata": {},
   "source": [
    "# Earth mover's distance. Wasserstein loss. 1-L continuous condition"
   ]
  },
  {
   "cell_type": "markdown",
   "metadata": {},
   "source": [
    "![alt text](../images/gan_spe_W3_0002.jpg \"gan week3-2\")"
   ]
  },
  {
   "cell_type": "code",
   "execution_count": null,
   "metadata": {},
   "outputs": [],
   "source": []
  }
 ],
 "metadata": {
  "kernelspec": {
   "display_name": "Python [conda env:fastai] *",
   "language": "python",
   "name": "conda-env-fastai-py"
  },
  "language_info": {
   "codemirror_mode": {
    "name": "ipython",
    "version": 3
   },
   "file_extension": ".py",
   "mimetype": "text/x-python",
   "name": "python",
   "nbconvert_exporter": "python",
   "pygments_lexer": "ipython3",
   "version": "3.8.2"
  },
  "toc": {
   "base_numbering": 1,
   "nav_menu": {},
   "number_sections": true,
   "sideBar": true,
   "skip_h1_title": false,
   "title_cell": "Table of Contents",
   "title_sidebar": "Contents",
   "toc_cell": false,
   "toc_position": {},
   "toc_section_display": true,
   "toc_window_display": false
  }
 },
 "nbformat": 4,
 "nbformat_minor": 4
}
