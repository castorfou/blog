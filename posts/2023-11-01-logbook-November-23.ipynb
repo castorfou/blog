{
 "cells": [
  {
   "cell_type": "raw",
   "id": "cb1fa2df-fd88-4efc-a58f-3083a36bc982",
   "metadata": {},
   "source": [
    "---\n",
    "title: \"Logbook for November 23\"\n",
    "description: \"\"\n",
    "date: \"11/01/2023\"\n",
    "categories:\n",
    "  - logbook\n",
    "  - jupyter\n",
    "  - git\n",
    "image: /images/logbook.jpg\n",
    "toc: true\n",
    "show_tags: true\n",
    "---"
   ]
  },
  {
   "cell_type": "markdown",
   "id": "edf84969-ae1c-48a7-b3bb-bdbf9b4437e2",
   "metadata": {},
   "source": [
    "jupyter lab upgrade procedure, git (or config dotfiles) show retrieve old commit"
   ]
  },
  {
   "cell_type": "markdown",
   "id": "464474cf-054a-4ad8-ba02-9fed99d13126",
   "metadata": {},
   "source": [
    "# Week 47 - November 23"
   ]
  },
  {
   "cell_type": "markdown",
   "id": "78aca09f-be88-4cbd-a124-d212ffc14e77",
   "metadata": {
    "tags": []
   },
   "source": [
    "## Monday 11/20"
   ]
  },
  {
   "cell_type": "markdown",
   "id": "4af734ab-94c2-4ac8-9603-0124fdffeb8d",
   "metadata": {
    "tags": []
   },
   "source": [
    "In case of update detected in jupyter lab version.\n",
    "\n",
    "Here is my procedure.\n",
    "\n",
    "```bash\n",
    "mamba activate base_jupyter_v4\n",
    "sudo systemctl stop jupyterlab\n",
    "mamba update --strict-channel-priority -c conda-forge -c nodefaults  jupyterlab\n",
    "sudo systemctl start jupyterlab\n",
    "```"
   ]
  },
  {
   "cell_type": "markdown",
   "id": "a1443f50-f28a-4b39-878c-74a33fe3ce67",
   "metadata": {
    "tags": []
   },
   "source": [
    "## Tuesday 11/21"
   ]
  },
  {
   "cell_type": "markdown",
   "id": "ba789b86-3156-443d-be28-dd49d3e55f78",
   "metadata": {},
   "source": [
    "A reminder of basic git commands:\n",
    "\n",
    "**list all commits of a given file**\n",
    "\n",
    "`git rev-list HEAD --oneline filename`\n",
    "\n",
    "**display file content of a given commit**\n",
    "\n",
    "`git show <SHA1>:./filename`\n",
    "\n",
    "**restore a commit**\n",
    "\n",
    "`git restore -s <SHA1> -- filename`"
   ]
  },
  {
   "cell_type": "markdown",
   "id": "09f4c1b0-d19f-4847-90bc-3b4c8b06afea",
   "metadata": {},
   "source": [
    "And as a real example with `config`\n",
    "\n",
    "\n",
    "**list pip.conf commits**\n",
    "```bash\n",
    "❯ config  rev-list HEAD --oneline pip.conf\n",
    "d9380e3 increase timeout for network hicup\n",
    "621e022 correct way to setup extra-index-url\n",
    "1dfd028 dcy-pypi-snapshot-fed\n",
    "20c75d6 config artifactry\n",
    "```"
   ]
  },
  {
   "cell_type": "markdown",
   "id": "7e0369e9-a058-46d5-a6a0-bf3cfc765cf0",
   "metadata": {},
   "source": [
    "**what was in 20c75d6**\n",
    "```bash\n",
    "❯ config show 20c75d6:./pip.conf\n",
    "[global]\n",
    "timeout = 1000\n",
    "index-url = https://pypi.org/simple/\n",
    "trusted-host = download.pytorch.org\n",
    "               pypi.python.org\n",
    "               files.pythonhosted.org\n",
    "               pypi.org\n",
    "                artifactory.acme.com\n",
    "extra-index-url=artifactory.acme.com/api/pypi/pypi/simple\n",
    "```"
   ]
  },
  {
   "cell_type": "markdown",
   "id": "be0b22bc-3681-4806-a136-8b55edd8ab64",
   "metadata": {},
   "source": [
    "**restore commit 20c75d6**\n",
    "```bash\n",
    "❯ config restore -s 20c75d6 -- ./pip.conf\n",
    "```"
   ]
  },
  {
   "cell_type": "markdown",
   "id": "ecbbe94b",
   "metadata": {},
   "source": []
  }
 ],
 "metadata": {
  "kernelspec": {
   "display_name": "Python [conda env:fastai]",
   "language": "python",
   "name": "conda-env-fastai-py"
  },
  "language_info": {
   "codemirror_mode": {
    "name": "ipython",
    "version": 3
   },
   "file_extension": ".py",
   "mimetype": "text/x-python",
   "name": "python",
   "nbconvert_exporter": "python",
   "pygments_lexer": "ipython3",
   "version": "3.11.5"
  },
  "toc": {
   "base_numbering": 1,
   "nav_menu": {},
   "number_sections": true,
   "sideBar": true,
   "skip_h1_title": false,
   "title_cell": "Table of Contents",
   "title_sidebar": "Contents",
   "toc_cell": false,
   "toc_position": {},
   "toc_section_display": true,
   "toc_window_display": true
  }
 },
 "nbformat": 4,
 "nbformat_minor": 5
}
