{
 "cells": [
  {
   "cell_type": "raw",
   "id": "cb1fa2df-fd88-4efc-a58f-3083a36bc982",
   "metadata": {},
   "source": [
    "---\n",
    "title: \"Logbook for August 23\"\n",
    "description: \"\"\n",
    "date: \"08/01/2023\"\n",
    "categories:\n",
    "  - logbook\n",
    "  - git\n",
    "  - holoviz\n",
    "image: /images/logbook.jpg\n",
    "toc: true\n",
    "show_tags: true\n",
    "---"
   ]
  },
  {
   "cell_type": "markdown",
   "id": "464474cf-054a-4ad8-ba02-9fed99d13126",
   "metadata": {},
   "source": [
    "# Week 34 - August 23"
   ]
  },
  {
   "cell_type": "markdown",
   "id": "4af734ab-94c2-4ac8-9603-0124fdffeb8d",
   "metadata": {
    "tags": []
   },
   "source": [
    "## Monday 08/21"
   ]
  },
  {
   "cell_type": "markdown",
   "id": "e994a047-85f8-40db-890a-8a72043ba5ed",
   "metadata": {},
   "source": [
    "**datashader** or how to use plotly/bokeh with millions of points "
   ]
  },
  {
   "cell_type": "markdown",
   "id": "22f77f68-9f10-4abb-8c02-8324a1b750d7",
   "metadata": {},
   "source": [
    "Before vacations I had some [issues](/posts/2023-07-01-logbook-July-23.html#friday-0721) to have it run in a custom python environment."
   ]
  },
  {
   "cell_type": "markdown",
   "id": "c3f2ccd7-6134-4da3-bbfa-81910d3c0cb2",
   "metadata": {},
   "source": [
    "Now I have fixed it by:\n",
    "* installing `pyviz_comms` in my jupyter environment (e.g. `conda install -n base_jupyter -c pyviz pyviz_comms`)\n",
    "* adding these commands to my active environment\n",
    "```bash\n",
    "conda install -c pyviz hvplot datashader\n",
    "pip install -I pyarrow==11.0.0\n",
    "pip install -Iv numpy==1.23.0\n",
    "```"
   ]
  },
  {
   "cell_type": "markdown",
   "id": "00e4921d-3209-4d0e-9577-e3b735b74190",
   "metadata": {
    "execution": {
     "iopub.execute_input": "2023-08-21T12:14:13.081060Z",
     "iopub.status.busy": "2023-08-21T12:14:13.080880Z",
     "iopub.status.idle": "2023-08-21T12:14:14.185896Z",
     "shell.execute_reply": "2023-08-21T12:14:14.185270Z",
     "shell.execute_reply.started": "2023-08-21T12:14:13.081049Z"
    }
   },
   "source": [
    "And then I can just use it with:\n",
    "\n",
    "```python\n",
    "import hvplot.pandas\n",
    "df.hvplot.scatter(x='x', y='y', rasterize=True, cnorm='eq_hist', width=1200, height=600, c='sigma_1', dynspread=True)\n",
    "```"
   ]
  },
  {
   "cell_type": "markdown",
   "id": "e3d00eb1-73ed-48fb-8e36-49a8a2a15267",
   "metadata": {},
   "source": [
    "Should now create a blog entry to fully present that."
   ]
  },
  {
   "cell_type": "markdown",
   "id": "ec80a810-6acf-49d5-932a-9a28571ca409",
   "metadata": {
    "tags": []
   },
   "source": [
    "## Thursday 08/24"
   ]
  },
  {
   "cell_type": "markdown",
   "id": "ef90649c-9730-47f6-9a14-6ee34cd0a9ab",
   "metadata": {},
   "source": [
    "**git** or how to revert one file from a previous commit"
   ]
  },
  {
   "cell_type": "markdown",
   "id": "40cf792f-ff38-41da-bf46-b4bd5ee15d37",
   "metadata": {},
   "source": [
    "Let's say I want to revert to a previous commit the file `3 - uq_conformal - dataset_S.ipynb`"
   ]
  },
  {
   "cell_type": "markdown",
   "id": "1f8d1fd0-f4c7-49ce-8d50-29cde045a654",
   "metadata": {},
   "source": [
    "1st to do is to list all known commits where this file is involved with **git log --oneline**\n",
    "\n",
    "```bash\n",
    "❯ git log --oneline 3\\ -\\ uq_conformal\\ -\\ dataset_S.ipynb\n",
    "2888291 exploration espace latent\n",
    "f16fce7 training on dataset_S\n",
    "```\n",
    "\n",
    "I would like to get back to the version in commit `f16fce7`"
   ]
  },
  {
   "cell_type": "markdown",
   "id": "f5fff240-ab23-4894-bed4-19c375048d9d",
   "metadata": {
    "execution": {
     "iopub.execute_input": "2023-08-24T07:49:13.843193Z",
     "iopub.status.busy": "2023-08-24T07:49:13.842999Z",
     "iopub.status.idle": "2023-08-24T07:49:13.849297Z",
     "shell.execute_reply": "2023-08-24T07:49:13.848703Z",
     "shell.execute_reply.started": "2023-08-24T07:49:13.843178Z"
    },
    "tags": []
   },
   "source": [
    "Then to revert, it is just about using **git checkout**\n",
    "\n",
    "```bash\n",
    "git checkout f16fce7 -- 3\\ -\\ uq_conformal\\ -\\ dataset_S.ipynb\n",
    "```\n",
    "\n",
    "and then to commit and push"
   ]
  },
  {
   "cell_type": "code",
   "execution_count": null,
   "id": "25c042a4-72f4-4b7d-806d-4f07bc7e96dc",
   "metadata": {},
   "outputs": [],
   "source": []
  }
 ],
 "metadata": {
  "kernelspec": {
   "display_name": "Python 3 (ipykernel)",
   "language": "python",
   "name": "python3"
  },
  "language_info": {
   "codemirror_mode": {
    "name": "ipython",
    "version": 3
   },
   "file_extension": ".py",
   "mimetype": "text/x-python",
   "name": "python",
   "nbconvert_exporter": "python",
   "pygments_lexer": "ipython3",
   "version": "3.10.11"
  },
  "toc": {
   "base_numbering": 1,
   "nav_menu": {},
   "number_sections": true,
   "sideBar": true,
   "skip_h1_title": false,
   "title_cell": "Table of Contents",
   "title_sidebar": "Contents",
   "toc_cell": false,
   "toc_position": {},
   "toc_section_display": true,
   "toc_window_display": true
  }
 },
 "nbformat": 4,
 "nbformat_minor": 5
}
