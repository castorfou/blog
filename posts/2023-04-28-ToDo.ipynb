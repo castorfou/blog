{
 "cells": [
  {
   "cell_type": "raw",
   "id": "ccb80931-e912-4118-aac7-1200f448756f",
   "metadata": {},
   "source": [
    "---\n",
    "title: \"To Do\"\n",
    "description: \"an attempt to gather things to learn/test in datascience\"\n",
    "date: \"04/28/2023\"\n",
    "categories:\n",
    "  - todo\n",
    "image: /images/icons/todo.png\n",
    "toc: true\n",
    "show_tags: true\n",
    "---"
   ]
  },
  {
   "cell_type": "markdown",
   "id": "643981e5-a1f3-4a80-ad4a-006a2008be19",
   "metadata": {},
   "source": [
    "# list"
   ]
  },
  {
   "cell_type": "markdown",
   "id": "fdf89706-b2f8-44aa-9be5-3671ef7d52d1",
   "metadata": {},
   "source": [
    "- [] Pyro tutorials (DPP: deep probabilistic programming). [Tutorials](http://pyro.ai/examples/)\n",
    "- [] Apr-23 ChatGPT Prompt Engineering for Developers [Detection](https://twitter.com/AndrewYNg/status/1651605660382134274)\n",
    "- [] Apr-23 new fastai courses: Practical Deep Learning for Coders - Part 2. [To start](https://course.fast.ai/Lessons/part2.html) [Detection](/posts/2023-04-01-logbook-April-23.html#new-fastai-courses-practical-deep-learning-for-coders---part-2) [Part1 notes](/posts/2022-10-17-fastai-2022-courses.html)\n",
    "- [0] Jan-23 Mallat 2023. (todo: [video 4](https://www.college-de-france.fr/agenda/cours/modeles-information-et-physique-statistique/modeles-information-et-physique-statistique-4))\n",
    "- [0] Jan-23 fastai live coding lessons (todo: lesson 8). [On-going notes](/posts/2023-01-25-fastai-live-coding-sessions.html)"
   ]
  },
  {
   "cell_type": "markdown",
   "id": "8feccd56-4093-47ba-bdd4-78d7bb12b7b1",
   "metadata": {},
   "source": [
    "# why this list"
   ]
  },
  {
   "cell_type": "markdown",
   "id": "dc99c575-acfb-4b80-a5e4-6e908f08ebbe",
   "metadata": {},
   "source": [
    "to keep track of large long term actions. And to go to the end of it.\n",
    "\n",
    "Not sure this is the best way to do it. Maybe a trello would be smarter.\n",
    "\n",
    "Will see if I can keep it updated.\n",
    "\n",
    "Would have been nice to get checklist widget in markdown (as [task lists](https://docs.github.com/en/get-started/writing-on-github/working-with-advanced-formatting/about-task-lists#creating-task-lists) under github). Will ask quarto community.\n",
    "\n",
    "\n",
    "Legend:\n",
    "\n",
    "- [] not started\n",
    "\n",
    "- [0] started\n",
    "\n",
    "- [x] completed"
   ]
  },
  {
   "cell_type": "code",
   "execution_count": null,
   "id": "5b7834cf-770a-45a3-82ab-3308df4af886",
   "metadata": {},
   "outputs": [],
   "source": []
  }
 ],
 "metadata": {
  "kernelspec": {
   "display_name": "Python 3 (ipykernel)",
   "language": "python",
   "name": "python3"
  },
  "language_info": {
   "codemirror_mode": {
    "name": "ipython",
    "version": 3
   },
   "file_extension": ".py",
   "mimetype": "text/x-python",
   "name": "python",
   "nbconvert_exporter": "python",
   "pygments_lexer": "ipython3",
   "version": "3.9.16"
  }
 },
 "nbformat": 4,
 "nbformat_minor": 5
}
