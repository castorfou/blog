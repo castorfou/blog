{
 "cells": [
  {
   "cell_type": "raw",
   "id": "5acb2852-8bbf-4970-b9a3-ae4b087241b4",
   "metadata": {
    "execution": {
     "iopub.execute_input": "2023-01-12T13:41:19.709851Z",
     "iopub.status.busy": "2023-01-12T13:41:19.709617Z",
     "iopub.status.idle": "2023-01-12T13:41:19.716128Z",
     "shell.execute_reply": "2023-01-12T13:41:19.715427Z",
     "shell.execute_reply.started": "2023-01-12T13:41:19.709833Z"
    }
   },
   "source": [
    "---\n",
    "title: \"Update jupyter lab to v4\"\n",
    "description: \"and perform all unit tests with tqdm, ipywidget, plotly and everything\"\n",
    "date: \"08/24/2023\"\n",
    "categories:\n",
    "  - jupyter\n",
    "  - plotly\n",
    "image: /images/icons/jupyter.png\n",
    "toc: true\n",
    "show_tags: true\n",
    "---"
   ]
  },
  {
   "attachments": {
    "image.png": {
     "image/png": "[encoded data removed]"
    }
   },
   "cell_type": "markdown",
   "id": "54534f72-8de8-4202-a9d6-2580890cba5f",
   "metadata": {},
   "source": [
    "As mentionned in [logbook May-23](/posts/2023-05-01-logbook-May-23.html#jupyter-4.0-is-out), jupyter lab v4 is now available.\n",
    "\n",
    "![image.png](attachment:image.png)"
   ]
  },
  {
   "cell_type": "markdown",
   "id": "d9ac0074",
   "metadata": {},
   "source": [
    "# clean jupyterlab config files"
   ]
  },
  {
   "cell_type": "markdown",
   "id": "2da07ed0-d303-467b-a135-9652a02b3f10",
   "metadata": {},
   "source": [
    "2 config files in linux:\n",
    "\n",
    "- `.jupyter`\n",
    "\n",
    "- `.local/share/jupyter`\n",
    "\n",
    "I have removed them (actually mv with `_backup_<date>` suffix"
   ]
  },
  {
   "cell_type": "markdown",
   "id": "2bf2039b-4b7e-4309-b4df-f46ac8f459ff",
   "metadata": {},
   "source": [
    "# create `base_jupyter_v4` environment"
   ]
  },
  {
   "cell_type": "markdown",
   "id": "03e8c4ac-b25d-4464-877f-2d4aa9fb1130",
   "metadata": {},
   "source": [
    "Here is how I created it"
   ]
  },
  {
   "cell_type": "raw",
   "id": "8c50d60a-a4a0-4908-bdbf-43f4e5024071",
   "metadata": {},
   "source": [
    "---\n",
    "code-annotation: below\n",
    "---\n",
    "\n",
    "```bash\n",
    "conda remove --name base_jupyter_v4 --all\n",
    "mamba create -y -n base_jupyter_v4 -c conda-forge python=3.9 --yes\n",
    "mamba activate base_jupyter_v4\n",
    "\n",
    "pip install jupyterlab ipywidgets tqdm # <1>\n",
    "\n",
    "mamba install nb_conda_kernels --yes # <2>\n",
    "mamba install -y -c conda-forge -c plotly jupyter-dash # <3>\n",
    "mamba install -y -c conda-forge jupyterlab_execute_time # <4>\n",
    "```\n",
    "\n",
    "1. tqdm available for all kernels (true?)\n",
    "2. kernels are already listed against each conda environment (I won't manually install kernels anymore `python -m ipykernel install --user --name=my_env`)\n",
    "3. plotly extension installed\n",
    "4. execute time installed "
   ]
  },
  {
   "cell_type": "markdown",
   "id": "43d4f907-c843-413f-8a60-973c8f07e9cb",
   "metadata": {},
   "source": [
    "# launch it as a service"
   ]
  },
  {
   "cell_type": "markdown",
   "id": "ec28a3cc-24ae-4e98-a8e3-3044f1fb100d",
   "metadata": {},
   "source": [
    "As explained in [WSL2 on a fresh new PC / jupyter lab](/posts/2022-12-15-wsl2-fresh-pc.html#jupyter-lab)\n",
    "\n",
    "I have setup jupyterlab as a service. Jupyter lab is automatically started with WSL.\n",
    "\n",
    "thanks to\n",
    "- `/etc/systemd/system/jupyterlab.service` nothing to be changed here\n",
    "\n",
    "- `~/bin/jupyterlab` and here I have to update to `base_jupyter` to `base_jupyter_v4`\n",
    "\n",
    "- `~/bin/jupyterlab.sh`, `~/bin/jupyterlab.sh` nothing to be changed here"
   ]
  },
  {
   "cell_type": "code",
   "execution_count": 2,
   "id": "0fc25868-1a83-4bfc-be5a-78c770b84f3b",
   "metadata": {
    "execution": {
     "iopub.execute_input": "2023-10-05T10:09:29.516832Z",
     "iopub.status.busy": "2023-10-05T10:09:29.516628Z",
     "iopub.status.idle": "2023-10-05T10:09:29.635377Z",
     "shell.execute_reply": "2023-10-05T10:09:29.634522Z",
     "shell.execute_reply.started": "2023-10-05T10:09:29.516818Z"
    }
   },
   "outputs": [
    {
     "name": "stdout",
     "output_type": "stream",
     "text": [
      "#!/bin/bash\n",
      "cd ~\n",
      "source ~/miniconda/etc/profile.d/conda.sh\n",
      "conda activate base_jupyter_v4\n",
      "jupyter lab\n"
     ]
    }
   ],
   "source": [
    "!cat /home/guillaume/bin/jupyterlab"
   ]
  },
  {
   "cell_type": "markdown",
   "id": "343c1442-e714-427b-90c0-8c29edcf3881",
   "metadata": {},
   "source": [
    "Then enable this service\n",
    "\n",
    "```bash\n",
    "chmod +x /home/guillaume/bin/jupyterlab.sh\n",
    "sudo systemctl daemon-reload\n",
    "sudo systemctl enable jupyterlab.service\n",
    "sudo systemctl restart jupyterlab.service\n",
    "```\n",
    "\n",
    "and to monitor logs of this service\n",
    "```bash\n",
    "journalctl -xefu jupyterlab\n",
    "```"
   ]
  },
  {
   "cell_type": "markdown",
   "id": "98653a97-b0f6-46da-b7f4-44c763838bad",
   "metadata": {},
   "source": [
    "Just pointing to http://localhost:8888/lab"
   ]
  },
  {
   "cell_type": "markdown",
   "id": "82b1b718-981b-4dcb-8bfb-d1427154219a",
   "metadata": {},
   "source": [
    "# unit test"
   ]
  },
  {
   "cell_type": "markdown",
   "id": "acd329e3-7fa8-49a8-b83e-b7cb3a0f84b3",
   "metadata": {},
   "source": [
    "## tqdm"
   ]
  },
  {
   "cell_type": "code",
   "execution_count": 3,
   "id": "dc01f2a2-7f2e-4077-96b8-f691b7fd1de5",
   "metadata": {
    "execution": {
     "iopub.execute_input": "2023-10-05T10:10:30.402580Z",
     "iopub.status.busy": "2023-10-05T10:10:30.402366Z",
     "iopub.status.idle": "2023-10-05T10:10:33.593447Z",
     "shell.execute_reply": "2023-10-05T10:10:33.592043Z",
     "shell.execute_reply.started": "2023-10-05T10:10:30.402560Z"
    }
   },
   "outputs": [
    {
     "data": {
      "application/vnd.jupyter.widget-view+json": {
       "model_id": "abcf64eb40764aa599ca3b7517d74426",
       "version_major": 2,
       "version_minor": 0
      },
      "text/plain": [
       "1st loop:   0%|          | 0/3 [00:00<?, ?it/s]"
      ]
     },
     "metadata": {},
     "output_type": "display_data"
    },
    {
     "data": {
      "application/vnd.jupyter.widget-view+json": {
       "model_id": "9ba4404588ca4e33a024348db9ae181f",
       "version_major": 2,
       "version_minor": 0
      },
      "text/plain": [
       "2nd loop:   0%|          | 0/100 [00:00<?, ?it/s]"
      ]
     },
     "metadata": {},
     "output_type": "display_data"
    },
    {
     "data": {
      "application/vnd.jupyter.widget-view+json": {
       "model_id": "3f512ab969b24fab9bc886f722790c39",
       "version_major": 2,
       "version_minor": 0
      },
      "text/plain": [
       "2nd loop:   0%|          | 0/100 [00:00<?, ?it/s]"
      ]
     },
     "metadata": {},
     "output_type": "display_data"
    },
    {
     "data": {
      "application/vnd.jupyter.widget-view+json": {
       "model_id": "ba4459311ad0499aaad7bd2a3ac29bbf",
       "version_major": 2,
       "version_minor": 0
      },
      "text/plain": [
       "2nd loop:   0%|          | 0/100 [00:00<?, ?it/s]"
      ]
     },
     "metadata": {},
     "output_type": "display_data"
    }
   ],
   "source": [
    "from tqdm.notebook import trange, tqdm\n",
    "from time import sleep\n",
    "\n",
    "for i in trange(3, desc='1st loop'):\n",
    "    for j in tqdm(range(100), desc='2nd loop'):\n",
    "        sleep(0.01)\n"
   ]
  },
  {
   "cell_type": "markdown",
   "id": "35b0d2b1-71ea-4bc7-a500-c10bbe9f0ee1",
   "metadata": {},
   "source": [
    "## ipywidgets"
   ]
  },
  {
   "cell_type": "code",
   "execution_count": 4,
   "id": "11792d4b-1eeb-4f8c-b5f2-56f6fdca835a",
   "metadata": {
    "execution": {
     "iopub.execute_input": "2023-10-05T10:11:10.859933Z",
     "iopub.status.busy": "2023-10-05T10:11:10.859737Z",
     "iopub.status.idle": "2023-10-05T10:11:10.864959Z",
     "shell.execute_reply": "2023-10-05T10:11:10.864193Z",
     "shell.execute_reply.started": "2023-10-05T10:11:10.859920Z"
    },
    "tags": []
   },
   "outputs": [
    {
     "data": {
      "text/plain": [
       "'8.1.1'"
      ]
     },
     "execution_count": 4,
     "metadata": {},
     "output_type": "execute_result"
    }
   ],
   "source": [
    "import ipywidgets\n",
    "ipywidgets.__version__"
   ]
  },
  {
   "cell_type": "code",
   "execution_count": 5,
   "id": "7cc219ac-032f-45b1-80d8-55cd257c79ba",
   "metadata": {
    "execution": {
     "iopub.execute_input": "2023-10-05T10:11:11.533305Z",
     "iopub.status.busy": "2023-10-05T10:11:11.532957Z",
     "iopub.status.idle": "2023-10-05T10:11:11.539234Z",
     "shell.execute_reply": "2023-10-05T10:11:11.538714Z",
     "shell.execute_reply.started": "2023-10-05T10:11:11.533286Z"
    },
    "tags": []
   },
   "outputs": [
    {
     "data": {
      "application/vnd.jupyter.widget-view+json": {
       "model_id": "8894ad7e0a2e4d69a81c6c517d0899f8",
       "version_major": 2,
       "version_minor": 0
      },
      "text/plain": [
       "Button(description='Hello World!', style=ButtonStyle())"
      ]
     },
     "execution_count": 5,
     "metadata": {},
     "output_type": "execute_result"
    }
   ],
   "source": [
    "ipywidgets.widgets.Button(description=\"Hello World!\")"
   ]
  },
  {
   "cell_type": "code",
   "execution_count": null,
   "id": "705adc61-d2de-40c2-bd27-316dded5256e",
   "metadata": {},
   "outputs": [],
   "source": []
  }
 ],
 "metadata": {
  "kernelspec": {
   "display_name": "Python 3 (ipykernel)",
   "language": "python",
   "name": "python3"
  },
  "language_info": {
   "codemirror_mode": {
    "name": "ipython",
    "version": 3
   },
   "file_extension": ".py",
   "mimetype": "text/x-python",
   "name": "python",
   "nbconvert_exporter": "python",
   "pygments_lexer": "ipython3",
   "version": "3.9.18"
  }
 },
 "nbformat": 4,
 "nbformat_minor": 5
}
