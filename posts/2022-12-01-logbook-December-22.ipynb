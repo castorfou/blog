{
 "cells": [
  {
   "cell_type": "raw",
   "id": "cb1fa2df-fd88-4efc-a58f-3083a36bc982",
   "metadata": {},
   "source": [
    "---\n",
    "title: \"Logbook for December 22\"\n",
    "description: \"\"\n",
    "date: \"12/01/2022\"\n",
    "categories:\n",
    "  - logbook\n",
    "image: /images/logbook.jpg\n",
    "toc: true\n",
    "show_tags: true\n",
    "---"
   ]
  },
  {
   "cell_type": "markdown",
   "id": "2e068d6f-8d88-4a1b-8944-759c91c5363b",
   "metadata": {},
   "source": [
    "# Week 48 - December 22"
   ]
  },
  {
   "cell_type": "markdown",
   "id": "66027f24-8a1f-4f6b-9ae6-fcbe965078b4",
   "metadata": {},
   "source": [
    "## **Thursday 12/01**"
   ]
  },
  {
   "cell_type": "markdown",
   "id": "d8bdae88-fe81-4347-9eb1-8557acc439fd",
   "metadata": {},
   "source": [
    "### fastai course lesson 8 - Convolutions (CNNs)"
   ]
  },
  {
   "cell_type": "markdown",
   "id": "24e74e87-7603-4fa2-a454-1b82c04ad884",
   "metadata": {},
   "source": [
    "Running through [lesson 8](/posts/2022-10-17-fastai-2022-courses.html#lesson-8---convolutions-cnns)"
   ]
  },
  {
   "cell_type": "code",
   "execution_count": null,
   "id": "99244e17-db67-4ab9-a4de-d4559794ee7c",
   "metadata": {},
   "outputs": [],
   "source": []
  }
 ],
 "metadata": {
  "kernelspec": {
   "display_name": "dataset_tools",
   "language": "python",
   "name": "dataset_tools"
  },
  "language_info": {
   "codemirror_mode": {
    "name": "ipython",
    "version": 3
   },
   "file_extension": ".py",
   "mimetype": "text/x-python",
   "name": "python",
   "nbconvert_exporter": "python",
   "pygments_lexer": "ipython3",
   "version": "3.9.13"
  },
  "toc": {
   "base_numbering": 1,
   "nav_menu": {},
   "number_sections": true,
   "sideBar": true,
   "skip_h1_title": false,
   "title_cell": "Table of Contents",
   "title_sidebar": "Contents",
   "toc_cell": false,
   "toc_position": {},
   "toc_section_display": true,
   "toc_window_display": true
  }
 },
 "nbformat": 4,
 "nbformat_minor": 5
}
