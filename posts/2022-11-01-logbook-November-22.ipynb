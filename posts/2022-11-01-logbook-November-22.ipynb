{
 "cells": [
  {
   "cell_type": "raw",
   "id": "cb1fa2df-fd88-4efc-a58f-3083a36bc982",
   "metadata": {},
   "source": [
    "---\n",
    "title: \"Logbook for November 22\"\n",
    "description: \"\"\n",
    "date: \"11/01/2022\"\n",
    "categories:\n",
    "  - logbook\n",
    "image: /images/logbook.jpg\n",
    "toc: true\n",
    "show_tags: true\n",
    "---"
   ]
  },
  {
   "cell_type": "markdown",
   "id": "9c0d863d-a20b-434b-8a9e-75cd771ce01c",
   "metadata": {},
   "source": [
    "# Week 45 - November 22"
   ]
  },
  {
   "cell_type": "markdown",
   "id": "16d8aa62-5e87-43f5-a550-4f63234eea79",
   "metadata": {},
   "source": [
    "## **Monday 11/7**"
   ]
  },
  {
   "cell_type": "markdown",
   "id": "2658f83f-50a4-4ec9-9154-210cfb047eb7",
   "metadata": {},
   "source": [
    "freshly back from vacations (2 weeks) without touching anything AI-computer related"
   ]
  },
  {
   "cell_type": "markdown",
   "id": "817882be-7d45-4c59-adf2-d8acbe24ee7b",
   "metadata": {},
   "source": [
    "## **Wednesday 11/9**"
   ]
  },
  {
   "cell_type": "markdown",
   "id": "0d800478-3cf6-4403-93ab-4951c90264e0",
   "metadata": {},
   "source": [
    "### blog and broken links"
   ]
  },
  {
   "attachments": {
    "45512fec-0746-4a43-9866-d18264ece5b6.png": {
     "image/png": "[encoded data removed]"
    }
   },
   "cell_type": "markdown",
   "id": "0384030d-0913-44fd-bbda-0174f9c47c70",
   "metadata": {},
   "source": [
    "Last [time](/posts/2022-10-01-logbook-October-22.html#friday-1021) I had to fix broken links on this blog. For that I have setup [google search console](https://search.google.com/u/1/search-console/index?resource_id=https://castorfou.github.io/blog/).\n",
    "\n",
    "But for the moment I have this report\n",
    "\n",
    "![image.png](attachment:45512fec-0746-4a43-9866-d18264ece5b6.png)\n",
    "\n",
    "Have to figure out why.\n",
    "\n",
    "And sitemap as well is not configured. Maybe quarto can help to generate one.\n"
   ]
  },
  {
   "cell_type": "markdown",
   "id": "f7710df6-a612-431d-9b4e-fe57b0274030",
   "metadata": {},
   "source": [
    "### mamba v1.0"
   ]
  },
  {
   "cell_type": "markdown",
   "id": "b96279ed-d388-476b-b0ad-de51d2e91d22",
   "metadata": {},
   "source": [
    "Mamba released v1.0.\n",
    "\n",
    "I can now update my environments:\n",
    "\n",
    "`(base) $ conda update -c conda-forge mamba`\n"
   ]
  },
  {
   "cell_type": "markdown",
   "id": "fc7270a5-3fb5-404d-b8c6-6f2cd4ef627b",
   "metadata": {},
   "source": [
    "## **Thursday 11/10**"
   ]
  },
  {
   "cell_type": "markdown",
   "id": "021387e7-164c-4f43-968d-d3c6bbbb621f",
   "metadata": {},
   "source": [
    "### [fixed] unsafe legacy renegotiation disabled"
   ]
  },
  {
   "cell_type": "markdown",
   "id": "5fc7accb-a877-4dd7-a2bb-caad380e4eb5",
   "metadata": {},
   "source": [
    "Unfortuantely having updated mamba broke my WSL system. My other environment (with same update) is fine.\n",
    "\n",
    "I think this is linked to openssl version (v3 on WSL, v1.1.1 on linux)\n",
    "\n",
    "Here are some more information about this problem\n",
    "\n",
    "```bash\n",
    "$ conda create -n fastai python=3.9\n",
    "Looking for: ['python=3.9']\n",
    "Download error (35) SSL connect error [https://repo.anaconda.com/pkgs/r/noarch/repodata.json]\n",
    "error:0A000152:SSL routines::unsafe legacy renegotiation disabled\n",
    "```\n",
    "\n",
    "and information about the environment\n",
    "\n",
    "```bash\n",
    "# openssl version\n",
    "$ openssl version\n",
    "OpenSSL 3.0.7 1 Nov 2022 (Library: OpenSSL 3.0.7 1 Nov 2022)\n",
    "\n",
    "# ubuntu version (using lsb-release)\n",
    "$ . /etc/lsb-release && echo $DISTRIB_RELEASE\n",
    "22.04\n",
    "\n",
    "# SSL declarations that could impact this behaviour\n",
    "$ declare -p|grep -i ssl\n",
    "declare -x CURL_CA_BUNDLE=\"/etc/ssl/certs/ca-certificates.crt\"\n",
    "declare -x REQUESTS_CA_BUNDLE=\"/etc/ssl/certs/ca-certificates.crt\"\n",
    "declare -x SSL_CERT_FILE=\"/home/guillaume/miniconda/lib/python3.9/site-packages/certifi/cacert.pem\"\n",
    "```"
   ]
  },
  {
   "cell_type": "markdown",
   "id": "5433fa62-3b33-4d7b-8aff-e9f5756d286f",
   "metadata": {},
   "source": [
    "Initially I thought of [this issue](https://bugs.launchpad.net/ubuntu/+source/openssl/+bug/1963834/comments/7) as fixed in [WSL installation](/posts/2022-07-26-install%20ubuntu%2018.04%20on%20WSL.html#automatic-setup) (setup_wsl_user.sh / \"3. update certificates\").\n",
    "\n",
    "But the workaround/fix is still active\n",
    "\n",
    "```bash\n",
    "$ cat /etc/ssl/openssl.cnf|grep -i unsafe\n",
    "Options = UnsafeLegacyRenegotiation\n",
    "```"
   ]
  },
  {
   "cell_type": "markdown",
   "id": "bfba1853-db5b-4e38-997d-74c283bd01f9",
   "metadata": {},
   "source": [
    "[FIX]\n",
    "\n",
    "Just had to export `OPENSSL_CONF`\n",
    "\n",
    "```bash\n",
    "export OPENSSL_CONF=/etc/ssl/openssl.cnf\n",
    "```\n",
    "\n",
    "Modifying `.bashrc` to integrated thie environment variable."
   ]
  },
  {
   "cell_type": "markdown",
   "id": "35e36ef3-b643-4a29-9787-4c65996d6ef5",
   "metadata": {},
   "source": [
    "### fastai course lesson 4 - nlp"
   ]
  },
  {
   "cell_type": "markdown",
   "id": "5c3b1a2b-f6ac-4257-9ab3-80659c9ed633",
   "metadata": {},
   "source": [
    "Start of [lesson 4](/posts/2022-10-17-fastai-2022-courses.html#lesson-4---natural-language-nlp)"
   ]
  },
  {
   "cell_type": "markdown",
   "id": "e4cf69dd-a124-4814-a96c-ffd2c3391515",
   "metadata": {},
   "source": [
    "# Week 46 - November 22"
   ]
  },
  {
   "cell_type": "markdown",
   "id": "6b39597e-117a-4428-95e0-e59311d448bc",
   "metadata": {},
   "source": [
    "## **Monday 11/14**"
   ]
  },
  {
   "cell_type": "markdown",
   "id": "dac83d12-bc54-4241-aae2-2612aff3fa1f",
   "metadata": {},
   "source": [
    "### fastai course lesson 4 - nlp, lesson 5 - from-scratch model"
   ]
  },
  {
   "cell_type": "markdown",
   "id": "0130d642-0b22-468d-af7d-8f10d44696ec",
   "metadata": {},
   "source": [
    "Ending [lesson 4](/posts/2022-10-17-fastai-2022-courses.html#lesson-4---natural-language-nlp)"
   ]
  },
  {
   "cell_type": "markdown",
   "id": "b5270b11-0207-4ece-b7f4-ad20cd9f602c",
   "metadata": {},
   "source": [
    "Starting [lesson 5](/posts/2022-10-17-fastai-2022-courses.html#lesson-5---from-scratch-model)"
   ]
  },
  {
   "cell_type": "markdown",
   "id": "c9c3ef43-6716-49c6-ad95-5441f1ce4df9",
   "metadata": {},
   "source": [
    "## **Wednesday 11/16**"
   ]
  },
  {
   "cell_type": "markdown",
   "id": "b2d4eaa8-fb31-4e56-9a3b-dfe9e318267a",
   "metadata": {},
   "source": [
    "### quarto update"
   ]
  },
  {
   "cell_type": "markdown",
   "id": "974d81ba-850b-4af9-8dd6-cb038db29ad9",
   "metadata": {},
   "source": [
    "quarto has been updated to version 1.2.269 as mentioned in [fastai forum](https://forums.fast.ai/t/new-quarto-version-whats-new/102042)\n",
    "\n",
    "[Here](/posts/2022-09-16-migrate blog from nbdev to quarto.html#quarto-updated-to-version-1.2.269) the procedure to update."
   ]
  },
  {
   "cell_type": "code",
   "execution_count": null,
   "id": "260daa6e-23e7-4396-a7a4-961464959036",
   "metadata": {},
   "outputs": [],
   "source": []
  }
 ],
 "metadata": {
  "kernelspec": {
   "display_name": "dataset_tools",
   "language": "python",
   "name": "dataset_tools"
  },
  "language_info": {
   "codemirror_mode": {
    "name": "ipython",
    "version": 3
   },
   "file_extension": ".py",
   "mimetype": "text/x-python",
   "name": "python",
   "nbconvert_exporter": "python",
   "pygments_lexer": "ipython3",
   "version": "3.9.13"
  },
  "toc": {
   "base_numbering": 1,
   "nav_menu": {},
   "number_sections": true,
   "sideBar": true,
   "skip_h1_title": false,
   "title_cell": "Table of Contents",
   "title_sidebar": "Contents",
   "toc_cell": false,
   "toc_position": {},
   "toc_section_display": true,
   "toc_window_display": true
  }
 },
 "nbformat": 4,
 "nbformat_minor": 5
}
