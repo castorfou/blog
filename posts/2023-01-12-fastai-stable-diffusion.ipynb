{
 "cells": [
  {
   "cell_type": "raw",
   "id": "5acb2852-8bbf-4970-b9a3-ae4b087241b4",
   "metadata": {
    "execution": {
     "iopub.execute_input": "2023-01-12T13:41:19.709851Z",
     "iopub.status.busy": "2023-01-12T13:41:19.709617Z",
     "iopub.status.idle": "2023-01-12T13:41:19.716128Z",
     "shell.execute_reply": "2023-01-12T13:41:19.715427Z",
     "shell.execute_reply.started": "2023-01-12T13:41:19.709833Z"
    }
   },
   "source": [
    "---\n",
    "title: \"Deep Learning Foundations to Stable Diffusion\"\n",
    "description: \"fastai courses 2022\"\n",
    "date: \"01/12/2023\"\n",
    "categories:\n",
    "  - fastai\n",
    "image: /images/icons/fastai.png\n",
    "toc: true\n",
    "show_tags: true\n",
    "---"
   ]
  },
  {
   "cell_type": "markdown",
   "id": "534fe449-c167-46b8-b729-d8f52720755c",
   "metadata": {},
   "source": [
    "A good entry point is here in fastai forum: [\n",
    "Lesson 9 (part 2) preview](https://forums.fast.ai/t/lesson-9-part-2-preview/101336)\n",
    "\n",
    "This is not yet part 2 but will be a good playground waiting for it."
   ]
  },
  {
   "cell_type": "markdown",
   "id": "54534f72-8de8-4202-a9d6-2580890cba5f",
   "metadata": {},
   "source": [
    "# Lesson 9"
   ]
  },
  {
   "cell_type": "markdown",
   "id": "b66bea71-4960-48b1-99b5-5418e922bec0",
   "metadata": {
    "execution": {
     "iopub.execute_input": "2023-01-12T13:42:38.681407Z",
     "iopub.status.busy": "2023-01-12T13:42:38.681122Z",
     "iopub.status.idle": "2023-01-12T13:42:38.685863Z",
     "shell.execute_reply": "2023-01-12T13:42:38.685248Z",
     "shell.execute_reply.started": "2023-01-12T13:42:38.681392Z"
    }
   },
   "source": [
    "Video at youtube: https://www.youtube.com/watch?v=_7rMfsA24Ls"
   ]
  },
  {
   "cell_type": "code",
   "execution_count": null,
   "id": "31022e93-e8d8-4a9a-8954-e797df0d950c",
   "metadata": {},
   "outputs": [],
   "source": []
  }
 ],
 "metadata": {
  "kernelspec": {
   "display_name": "fastai_janus_tools",
   "language": "python",
   "name": "fastai_janus_tools"
  },
  "language_info": {
   "codemirror_mode": {
    "name": "ipython",
    "version": 3
   },
   "file_extension": ".py",
   "mimetype": "text/x-python",
   "name": "python",
   "nbconvert_exporter": "python",
   "pygments_lexer": "ipython3",
   "version": "3.9.15"
  }
 },
 "nbformat": 4,
 "nbformat_minor": 5
}
