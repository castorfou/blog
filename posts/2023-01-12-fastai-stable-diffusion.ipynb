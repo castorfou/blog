{
 "cells": [
  {
   "cell_type": "raw",
   "id": "5acb2852-8bbf-4970-b9a3-ae4b087241b4",
   "metadata": {
    "execution": {
     "iopub.execute_input": "2023-01-12T13:41:19.709851Z",
     "iopub.status.busy": "2023-01-12T13:41:19.709617Z",
     "iopub.status.idle": "2023-01-12T13:41:19.716128Z",
     "shell.execute_reply": "2023-01-12T13:41:19.715427Z",
     "shell.execute_reply.started": "2023-01-12T13:41:19.709833Z"
    }
   },
   "source": [
    "---\n",
    "title: \"Deep Learning Foundations to Stable Diffusion\"\n",
    "description: \"fastai courses 2022\"\n",
    "date: \"01/12/2023\"\n",
    "categories:\n",
    "  - fastai\n",
    "image: /images/icons/fastai.png\n",
    "toc: true\n",
    "show_tags: true\n",
    "---"
   ]
  },
  {
   "cell_type": "markdown",
   "id": "534fe449-c167-46b8-b729-d8f52720755c",
   "metadata": {},
   "source": [
    "A good entry point is here in fastai forum: [\n",
    "Lesson 9 (part 2) preview](https://forums.fast.ai/t/lesson-9-part-2-preview/101336)\n",
    "\n",
    "This is not yet part 2 but will be a good playground waiting for it."
   ]
  },
  {
   "cell_type": "markdown",
   "id": "54534f72-8de8-4202-a9d6-2580890cba5f",
   "metadata": {},
   "source": [
    "# Lesson 9"
   ]
  },
  {
   "cell_type": "markdown",
   "id": "b66bea71-4960-48b1-99b5-5418e922bec0",
   "metadata": {
    "execution": {
     "iopub.execute_input": "2023-01-12T13:42:38.681407Z",
     "iopub.status.busy": "2023-01-12T13:42:38.681122Z",
     "iopub.status.idle": "2023-01-12T13:42:38.685863Z",
     "shell.execute_reply": "2023-01-12T13:42:38.685248Z",
     "shell.execute_reply.started": "2023-01-12T13:42:38.681392Z"
    }
   },
   "source": [
    "Video at youtube: https://www.youtube.com/watch?v=_7rMfsA24Ls"
   ]
  },
  {
   "cell_type": "markdown",
   "id": "f0744c65-9c1b-48db-919d-81645c18a19d",
   "metadata": {},
   "source": [
    "There is a repo with notebooks at [github diffusion-nbs](https://github.com/fastai/diffusion-nbs)"
   ]
  },
  {
   "cell_type": "markdown",
   "id": "550237a8-9db8-4d48-ad92-8944cec1235e",
   "metadata": {},
   "source": [
    "[Lexica](https://lexica.art/) is a good starting point where you can search for generated images and what were the prompt used."
   ]
  },
  {
   "cell_type": "markdown",
   "id": "330a02c0-34a8-49e1-94d3-d275a6373e8c",
   "metadata": {},
   "source": [
    "To experiment stable diffusion, there are multiple options.\n",
    "\n",
    "I have cloned lessons repo `git clone https://github.com/fastai/diffusion-nbs.git`\n",
    "\n",
    "And now I am abble to run this notebook `stable_diffusion.ipynb` which is based on diffusers library from huggingface."
   ]
  },
  {
   "cell_type": "markdown",
   "id": "12a9a510-d6ac-4160-b385-0562b8802bb8",
   "metadata": {},
   "source": [
    "I start from this `fastai_hf` environnement"
   ]
  },
  {
   "cell_type": "code",
   "execution_count": 1,
   "id": "eab943d1-2cd6-48a5-9b6e-3e34539dac52",
   "metadata": {
    "execution": {
     "iopub.execute_input": "2023-01-13T08:21:30.783042Z",
     "iopub.status.busy": "2023-01-13T08:21:30.782821Z",
     "iopub.status.idle": "2023-01-13T08:21:30.895037Z",
     "shell.execute_reply": "2023-01-13T08:21:30.894335Z",
     "shell.execute_reply.started": "2023-01-13T08:21:30.783025Z"
    }
   },
   "outputs": [
    {
     "name": "stdout",
     "output_type": "stream",
     "text": [
      "conda remove --name fastai_hf --all\n",
      "conda create --name fastai_hf --clone fastai\n",
      "conda activate fastai_hf\n",
      "pip install -Uq diffusers transformers fastcore\n",
      "mamba install ipykernel\n",
      "python -m ipykernel install --user --name=fastai_hf\n",
      "mamba install matplotlib\n",
      "mamba install -c conda-forge ipywidgets\n",
      "\n",
      "\n",
      "#il faut ajouter les certificats Michelin à certifi\n",
      "#pour cela lancer ~/bin/certifi.sh\n",
      "#depuis l'environnement fastai_hf\n",
      "#et verifier que ça marche en lancant python certify_validation.py"
     ]
    }
   ],
   "source": [
    "!cat /home/guillaume/_conda_env/fastai_hf.txt"
   ]
  },
  {
   "cell_type": "markdown",
   "id": "9b1ae55e-75bf-4bff-bcec-951918efbbbd",
   "metadata": {},
   "source": [
    "which is a clone of `fastai` environement"
   ]
  },
  {
   "cell_type": "code",
   "execution_count": 4,
   "id": "1d6eea5e-d606-4e20-9bb4-5b75a5538617",
   "metadata": {
    "execution": {
     "iopub.execute_input": "2023-01-13T09:33:12.878950Z",
     "iopub.status.busy": "2023-01-13T09:33:12.878696Z",
     "iopub.status.idle": "2023-01-13T09:33:12.989890Z",
     "shell.execute_reply": "2023-01-13T09:33:12.989188Z",
     "shell.execute_reply.started": "2023-01-13T09:33:12.878927Z"
    },
    "tags": []
   },
   "outputs": [
    {
     "name": "stdout",
     "output_type": "stream",
     "text": [
      "mamba create -n fastai python=3.9\n",
      "conda activate fastai\n",
      "mamba install pytorch torchvision torchaudio pytorch-cuda=11.7 -c pytorch -c nvidia\n",
      "mamba install -c fastchan fastai nbdev "
     ]
    }
   ],
   "source": [
    "!cat /home/guillaume/_conda_env/fastai.txt"
   ]
  },
  {
   "attachments": {
    "ea7cabe0-564d-4348-aa51-fa1082da0418.png": {
     "image/png": "[encoded data removed]"
    }
   },
   "cell_type": "markdown",
   "id": "3c7ddcaa-df2f-4c5e-9853-bbb715b777a6",
   "metadata": {},
   "source": [
    "For a reason, it fails directly when running `pipe = StableDiffusionPipeline.from_pretrained(\"CompVis/stable-diffusion-v1-4\", revision=\"fp16\", torch_dtype=torch.float16).to(\"cuda\")`\n",
    "\n",
    "![image.png](attachment:ea7cabe0-564d-4348-aa51-fa1082da0418.png)"
   ]
  },
  {
   "cell_type": "markdown",
   "id": "f59e3190-21ad-4d3a-8742-90efb1859f51",
   "metadata": {},
   "source": [
    "As a workaround, I can execute from my full linux box.\n",
    "\n",
    "But because it has less GPU memory (8 GB), I need to run `pipe.enable_attention_slicing()`  \n",
    "\n"
   ]
  },
  {
   "cell_type": "markdown",
   "id": "e3e63fdf-9a19-48e7-9283-d6bf25588037",
   "metadata": {},
   "source": [
    "If your GPU is not big enough to use `pipe`, run `pipe.enable_attention_slicing()`  \n",
    "As described in the docs:  \n",
    "> When this option is enabled, the attention module will split the input tensor in slices, to compute attention in several steps. This is useful to save some memory in exchange for a small speed decrease."
   ]
  },
  {
   "cell_type": "code",
   "execution_count": null,
   "id": "890f0a29-b632-48cb-8385-1fb28c81c009",
   "metadata": {
    "tags": []
   },
   "outputs": [],
   "source": [
    "pipe.enable_attention_slicing()"
   ]
  },
  {
   "cell_type": "code",
   "execution_count": null,
   "id": "4998f676-5741-4826-a5c0-8f59b23539ef",
   "metadata": {},
   "outputs": [],
   "source": []
  }
 ],
 "metadata": {
  "kernelspec": {
   "display_name": "fastai_janus_tools",
   "language": "python",
   "name": "fastai_janus_tools"
  },
  "language_info": {
   "codemirror_mode": {
    "name": "ipython",
    "version": 3
   },
   "file_extension": ".py",
   "mimetype": "text/x-python",
   "name": "python",
   "nbconvert_exporter": "python",
   "pygments_lexer": "ipython3",
   "version": "3.9.15"
  }
 },
 "nbformat": 4,
 "nbformat_minor": 5
}
