{
 "cells": [
  {
   "cell_type": "raw",
   "id": "5acb2852-8bbf-4970-b9a3-ae4b087241b4",
   "metadata": {
    "execution": {
     "iopub.execute_input": "2023-01-12T13:41:19.709851Z",
     "iopub.status.busy": "2023-01-12T13:41:19.709617Z",
     "iopub.status.idle": "2023-01-12T13:41:19.716128Z",
     "shell.execute_reply": "2023-01-12T13:41:19.715427Z",
     "shell.execute_reply.started": "2023-01-12T13:41:19.709833Z"
    }
   },
   "source": [
    "---\n",
    "title: \"Deep Learning Foundations to Stable Diffusion\"\n",
    "description: \"fastai courses 2022\"\n",
    "date: \"01/12/2023\"\n",
    "categories:\n",
    "  - fastai\n",
    "image: /images/icons/fastai.png\n",
    "toc: true\n",
    "show_tags: true\n",
    "---"
   ]
  },
  {
   "cell_type": "markdown",
   "id": "534fe449-c167-46b8-b729-d8f52720755c",
   "metadata": {},
   "source": [
    "A good entry point is here in fastai forum: [\n",
    "Lesson 9 (part 2) preview](https://forums.fast.ai/t/lesson-9-part-2-preview/101336)\n",
    "\n",
    "This is not yet part 2 but will be a good playground waiting for it."
   ]
  },
  {
   "cell_type": "markdown",
   "id": "54534f72-8de8-4202-a9d6-2580890cba5f",
   "metadata": {},
   "source": [
    "# Lesson 9"
   ]
  },
  {
   "cell_type": "markdown",
   "id": "b66bea71-4960-48b1-99b5-5418e922bec0",
   "metadata": {
    "execution": {
     "iopub.execute_input": "2023-01-12T13:42:38.681407Z",
     "iopub.status.busy": "2023-01-12T13:42:38.681122Z",
     "iopub.status.idle": "2023-01-12T13:42:38.685863Z",
     "shell.execute_reply": "2023-01-12T13:42:38.685248Z",
     "shell.execute_reply.started": "2023-01-12T13:42:38.681392Z"
    }
   },
   "source": [
    "Video at youtube: https://www.youtube.com/watch?v=_7rMfsA24Ls"
   ]
  },
  {
   "cell_type": "markdown",
   "id": "f0744c65-9c1b-48db-919d-81645c18a19d",
   "metadata": {},
   "source": [
    "There is a repo with notebooks at [github diffusion-nbs](https://github.com/fastai/diffusion-nbs)"
   ]
  },
  {
   "cell_type": "markdown",
   "id": "550237a8-9db8-4d48-ad92-8944cec1235e",
   "metadata": {},
   "source": [
    "[Lexica](https://lexica.art/) is a good starting point where you can search for generated images and what were the prompt used."
   ]
  },
  {
   "cell_type": "markdown",
   "id": "330a02c0-34a8-49e1-94d3-d275a6373e8c",
   "metadata": {},
   "source": [
    "To experiment stable diffusion, there are multiple options.\n",
    "\n",
    "I have cloned lessons repo `git clone https://github.com/fastai/diffusion-nbs.git`\n",
    "\n",
    "And now I am abble to run this notebook `stable_diffusion.ipynb` which is based on diffusers library from huggingface."
   ]
  },
  {
   "cell_type": "markdown",
   "id": "12a9a510-d6ac-4160-b385-0562b8802bb8",
   "metadata": {},
   "source": [
    "I start from a classic fastai environment `fastai_janus_tools` and duplicate it to `fastai_hf`"
   ]
  },
  {
   "cell_type": "markdown",
   "id": "5706c368-229d-44b1-9190-b5a2c07265ab",
   "metadata": {},
   "source": [
    "```bash\n",
    "conda create --name fastai_hf --clone fastai_janus_tools\n",
    "conda activate fastai_hf\n",
    "pip install -Uq diffusers transformers fastcore\n",
    "mamba install ipykernel\n",
    "python -m ipykernel install --user --name=fastai_hf\n",
    "```"
   ]
  },
  {
   "cell_type": "code",
   "execution_count": null,
   "id": "b8737467-df3f-4377-a477-79d4d9a0fea9",
   "metadata": {},
   "outputs": [],
   "source": []
  }
 ],
 "metadata": {
  "kernelspec": {
   "display_name": "fastai_janus_tools",
   "language": "python",
   "name": "fastai_janus_tools"
  },
  "language_info": {
   "codemirror_mode": {
    "name": "ipython",
    "version": 3
   },
   "file_extension": ".py",
   "mimetype": "text/x-python",
   "name": "python",
   "nbconvert_exporter": "python",
   "pygments_lexer": "ipython3",
   "version": "3.9.15"
  }
 },
 "nbformat": 4,
 "nbformat_minor": 5
}
