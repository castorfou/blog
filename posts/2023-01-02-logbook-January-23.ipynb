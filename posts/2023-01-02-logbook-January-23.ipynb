{
 "cells": [
  {
   "cell_type": "raw",
   "id": "cb1fa2df-fd88-4efc-a58f-3083a36bc982",
   "metadata": {},
   "source": [
    "---\n",
    "title: \"Logbook for January 23\"\n",
    "description: \"\"\n",
    "date: \"01/01/2023\"\n",
    "categories:\n",
    "  - logbook\n",
    "image: /images/logbook.jpg\n",
    "toc: true\n",
    "show_tags: true\n",
    "---"
   ]
  },
  {
   "cell_type": "markdown",
   "id": "2e068d6f-8d88-4a1b-8944-759c91c5363b",
   "metadata": {},
   "source": [
    "# Week 1 - January 23"
   ]
  },
  {
   "cell_type": "markdown",
   "id": "66027f24-8a1f-4f6b-9ae6-fcbe965078b4",
   "metadata": {},
   "source": [
    "## **Monday 01/02**"
   ]
  },
  {
   "cell_type": "markdown",
   "id": "d8bdae88-fe81-4347-9eb1-8557acc439fd",
   "metadata": {},
   "source": [
    "### WSL and X-session"
   ]
  },
  {
   "cell_type": "markdown",
   "id": "24e74e87-7603-4fa2-a454-1b82c04ad884",
   "metadata": {},
   "source": [
    "I have left on-going tests last week of 22.\n",
    "\n",
    "Trying to start a X-session on ubuntu 22.04 within this new version of WSL.\n"
   ]
  },
  {
   "cell_type": "markdown",
   "id": "908dd092-9737-43e2-80d8-b50d72711855",
   "metadata": {},
   "source": [
    "**systemctl-sysusers failed**\n",
    "\n",
    "seen in `journalctl -r` when starting `gnome-session` some errors linked to `systemd-sysusers.service`.\n",
    "\n",
    "And I can see failed services with\n",
    "\n",
    "```bash\n",
    "sudo systemctl --failed\n",
    "  UNIT                     LOAD   ACTIVE SUB    DESCRIPTION\n",
    "● systemd-sysusers.service loaded failed failed Create System Users\n",
    "\n",
    "LOAD   = Reflects whether the unit definition was properly loaded.\n",
    "ACTIVE = The high-level unit activation state, i.e. generalization of SUB.\n",
    "SUB    = The low-level unit activation state, values depend on unit type.\n",
    "1 loaded units listed.\n",
    "```"
   ]
  },
  {
   "cell_type": "code",
   "execution_count": null,
   "id": "0fb790a2-9c6d-43ae-824f-93b99d230d6c",
   "metadata": {},
   "outputs": [],
   "source": []
  }
 ],
 "metadata": {
  "kernelspec": {
   "display_name": "Python 3 (ipykernel)",
   "language": "python",
   "name": "python3"
  },
  "language_info": {
   "codemirror_mode": {
    "name": "ipython",
    "version": 3
   },
   "file_extension": ".py",
   "mimetype": "text/x-python",
   "name": "python",
   "nbconvert_exporter": "python",
   "pygments_lexer": "ipython3",
   "version": "3.9.15"
  },
  "toc": {
   "base_numbering": 1,
   "nav_menu": {},
   "number_sections": true,
   "sideBar": true,
   "skip_h1_title": false,
   "title_cell": "Table of Contents",
   "title_sidebar": "Contents",
   "toc_cell": false,
   "toc_position": {},
   "toc_section_display": true,
   "toc_window_display": true
  }
 },
 "nbformat": 4,
 "nbformat_minor": 5
}
