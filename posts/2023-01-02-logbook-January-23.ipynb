{
 "cells": [
  {
   "cell_type": "raw",
   "id": "cb1fa2df-fd88-4efc-a58f-3083a36bc982",
   "metadata": {},
   "source": [
    "---\n",
    "title: \"Logbook for January 23\"\n",
    "description: \"\"\n",
    "date: \"01/01/2023\"\n",
    "categories:\n",
    "  - logbook\n",
    "image: /images/logbook.jpg\n",
    "toc: true\n",
    "show_tags: true\n",
    "---"
   ]
  },
  {
   "cell_type": "markdown",
   "id": "2e068d6f-8d88-4a1b-8944-759c91c5363b",
   "metadata": {},
   "source": [
    "# Week 1 - January 23"
   ]
  },
  {
   "cell_type": "markdown",
   "id": "66027f24-8a1f-4f6b-9ae6-fcbe965078b4",
   "metadata": {},
   "source": [
    "## Monday 01/02"
   ]
  },
  {
   "cell_type": "markdown",
   "id": "d8bdae88-fe81-4347-9eb1-8557acc439fd",
   "metadata": {},
   "source": [
    "### WSL and X-session"
   ]
  },
  {
   "cell_type": "markdown",
   "id": "8fd993e1-2246-45b8-a539-881eca930233",
   "metadata": {},
   "source": [
    "I have left on-going tests last week of 22.\n",
    "\n",
    "Trying to start a X-session on ubuntu 22.04 within this new version of WSL.\n",
    "\n",
    "Done it on a sandbox distro at [Run gnome-session in Ubuntu LTS](/posts/2022-12-15-wsl2-fresh-pc.html#run-gnome-session-in-ubuntu-lts)\n",
    "\n",
    "Now `gnome-shell` can be started from distro `ubuntu-x11` by calling `gnomeshell.sh`"
   ]
  },
  {
   "cell_type": "markdown",
   "id": "dad981b7-8523-4738-b69c-815dad19d42d",
   "metadata": {},
   "source": [
    "## Tuesday 01/03"
   ]
  },
  {
   "cell_type": "markdown",
   "id": "8aa6f863-cc5f-432d-9b5e-f5372364713c",
   "metadata": {},
   "source": [
    "### other wsl stuff"
   ]
  },
  {
   "cell_type": "markdown",
   "id": "5530b7bf-3944-4dfe-bd1f-fe7b3646874b",
   "metadata": {},
   "source": [
    "**jupyter lab**\n",
    "\n",
    "setup my `base_jupyter` env [jupyter lab in WSL](/posts/2022-12-15-wsl2-fresh-pc.html#jupyter-lab)"
   ]
  },
  {
   "cell_type": "markdown",
   "id": "47984176-430a-4c78-b35d-b484d89241b2",
   "metadata": {},
   "source": [
    "Now jupyter lab starts automatically with distro `ubuntu-22.04`\n",
    "\n",
    "and can be restarted with `sudo systemctl restart jupyterlab` "
   ]
  },
  {
   "cell_type": "markdown",
   "id": "e6c5897f-32c2-4a2c-85c1-de47bb9334d0",
   "metadata": {},
   "source": [
    "**[zotero](/posts/2022-12-15-wsl2-fresh-pc.html#zotero)**\n",
    "\n",
    "can install and use it including sync (otherwise no interest)"
   ]
  },
  {
   "cell_type": "markdown",
   "id": "5f215b6e-b392-4b8b-8b43-841a922ceb9f",
   "metadata": {},
   "source": [
    "## Wednesday 01/04"
   ]
  },
  {
   "cell_type": "markdown",
   "id": "5da4cda5-1e45-4e71-b372-299b5d6de019",
   "metadata": {},
   "source": [
    "get back to [fastai lesson 8](/posts/2022-10-17-fastai-2022-courses.html#lesson-8---convolutions-cnns)"
   ]
  },
  {
   "cell_type": "markdown",
   "id": "9b2dc2fd-0bca-4180-a6bb-b305ceee0936",
   "metadata": {},
   "source": [
    "opened a ticket in wsl github : [WSL some icons in taskbar for linux applications are defaulting to Tux](https://github.com/microsoft/wslg/issues/944) (triaged to wslg)"
   ]
  },
  {
   "cell_type": "markdown",
   "id": "2049c9a9-6215-4ce1-a35f-92706d9e0575",
   "metadata": {},
   "source": [
    "## Friday 01/06"
   ]
  },
  {
   "cell_type": "markdown",
   "id": "2d70379c-0580-4135-8853-d1e1ff6616cc",
   "metadata": {},
   "source": [
    "Working with collab filtering (to fill NaN), inspired by fastai [Lesson 8 - Practical Deep Learning for Coders 2022](https://www.youtube.com/watch?v=htiNBPxcXgo&t=1086s)\n",
    "\n",
    "seems it takes 6x times longer to use collab_learner instead of directly embeddings\n",
    "\n",
    "I need to understand why. I know why, it was just a mistake in calling `collab_learner(dls, n_factors, y_range=y_range)collab_learner(dls, n_factors, y_range=y_range)` (gorgot `y_range=`)"
   ]
  },
  {
   "cell_type": "markdown",
   "id": "74ff1cd1-56e2-4f24-bd3e-fceea6f062a8",
   "metadata": {},
   "source": [
    "# Week 2 - January 23"
   ]
  },
  {
   "cell_type": "markdown",
   "id": "1a8faed3-67b9-4577-9b2c-7f9f0c87bce8",
   "metadata": {},
   "source": [
    "## Tuesday 01/09"
   ]
  },
  {
   "cell_type": "markdown",
   "id": "9ff21365-dbe7-4ead-bbbd-4a4f754dc604",
   "metadata": {},
   "source": [
    "I have continued my experimentations with collaborative filtering and embedding matrices. With nice results. I jave played with parameters (y_range) and hyper parameters (wd). Will have to share with colleagues to get their feedback.\n",
    "\n",
    "I have started to use collab_learner with NN. But I have to better understand what is behind. \n",
    "\n",
    "Continue to listen to this lesson 8. It is back to computer vision with convolution. I have less interest for these matters but I still like the way Jeremy uses Excel to illustrate all these concepts. Jeremy: the AI excel master."
   ]
  },
  {
   "cell_type": "code",
   "execution_count": null,
   "id": "ba4bb5f0-e480-4c1b-998b-cbabc930cdf0",
   "metadata": {},
   "outputs": [],
   "source": []
  }
 ],
 "metadata": {
  "kernelspec": {
   "display_name": "Python 3 (ipykernel)",
   "language": "python",
   "name": "python3"
  },
  "language_info": {
   "codemirror_mode": {
    "name": "ipython",
    "version": 3
   },
   "file_extension": ".py",
   "mimetype": "text/x-python",
   "name": "python",
   "nbconvert_exporter": "python",
   "pygments_lexer": "ipython3",
   "version": "3.9.15"
  },
  "toc": {
   "base_numbering": 1,
   "nav_menu": {},
   "number_sections": true,
   "sideBar": true,
   "skip_h1_title": false,
   "title_cell": "Table of Contents",
   "title_sidebar": "Contents",
   "toc_cell": false,
   "toc_position": {},
   "toc_section_display": true,
   "toc_window_display": true
  }
 },
 "nbformat": 4,
 "nbformat_minor": 5
}
