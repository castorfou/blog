{
 "cells": [
  {
   "cell_type": "raw",
   "id": "cb1fa2df-fd88-4efc-a58f-3083a36bc982",
   "metadata": {},
   "source": [
    "---\n",
    "title: \"Logbook for January 23\"\n",
    "description: \"\"\n",
    "date: \"01/01/2023\"\n",
    "categories:\n",
    "  - logbook\n",
    "image: /images/logbook.jpg\n",
    "toc: true\n",
    "show_tags: true\n",
    "---"
   ]
  },
  {
   "cell_type": "markdown",
   "id": "2e068d6f-8d88-4a1b-8944-759c91c5363b",
   "metadata": {},
   "source": [
    "# Week 1 - January 23"
   ]
  },
  {
   "cell_type": "markdown",
   "id": "66027f24-8a1f-4f6b-9ae6-fcbe965078b4",
   "metadata": {},
   "source": [
    "## **Monday 01/02**"
   ]
  },
  {
   "cell_type": "markdown",
   "id": "d8bdae88-fe81-4347-9eb1-8557acc439fd",
   "metadata": {},
   "source": [
    "### WSL and X-session"
   ]
  },
  {
   "cell_type": "markdown",
   "id": "24e74e87-7603-4fa2-a454-1b82c04ad884",
   "metadata": {},
   "source": [
    "I have left on-going tests last week of 22.\n",
    "\n",
    "Trying to start a X-session on ubuntu 22.04 within this new version of WSL.\n"
   ]
  },
  {
   "cell_type": "markdown",
   "id": "6a4a04aa-a395-410a-ada6-92619fa5e883",
   "metadata": {
    "tags": []
   },
   "source": [
    "#### **systemctl-sysusers failed [FIXED]**"
   ]
  },
  {
   "cell_type": "markdown",
   "id": "6ce97797-ad3b-4831-b276-fd8330996390",
   "metadata": {
    "tags": []
   },
   "source": [
    "seen in `journalctl -r` when starting `gnome-session` some errors linked to `systemd-sysusers.service`.\n",
    "\n",
    "And I can see failed services with\n",
    "\n",
    "```bash\n",
    "sudo systemctl --failed\n",
    "  UNIT                     LOAD   ACTIVE SUB    DESCRIPTION\n",
    "● systemd-sysusers.service loaded failed failed Create System Users\n",
    "\n",
    "LOAD   = Reflects whether the unit definition was properly loaded.\n",
    "ACTIVE = The high-level unit activation state, i.e. generalization of SUB.\n",
    "SUB    = The low-level unit activation state, values depend on unit type.\n",
    "1 loaded units listed.\n",
    "```\n",
    "\n",
    "by getting additional info\n",
    "\n",
    "```bash\n",
    "sudo systemctl status  systemd-sysusers\n",
    "× systemd-sysusers.service - Create System Users\n",
    "     Loaded: loaded (/lib/systemd/system/systemd-sysusers.service; static)\n",
    "     Active: failed (Result: exit-code) since Mon 2023-01-02 09:44:29 CET; 10min ago\n",
    "       Docs: man:sysusers.d(5)\n",
    "             man:systemd-sysusers.service(8)\n",
    "   Main PID: 1803 (code=exited, status=243/CREDENTIALS)\n",
    "\n",
    "Jan 02 09:44:29 L001LPF3RKAR5 systemd[1]: Starting Create System Users...\n",
    "Jan 02 09:44:29 L001LPF3RKAR5 systemd[1803]: systemd-sysusers.service: Failed to set up credentials: Protocol error\n",
    "Jan 02 09:44:29 L001LPF3RKAR5 systemd[1803]: systemd-sysusers.service: Failed at step CREDENTIALS spawning systemd-sysusers: Protocol error\n",
    "Jan 02 09:44:29 L001LPF3RKAR5 systemd[1]: systemd-sysusers.service: Main process exited, code=exited, status=243/CREDENTIALS\n",
    "Jan 02 09:44:29 L001LPF3RKAR5 systemd[1]: systemd-sysusers.service: Failed with result 'exit-code'.\n",
    "Jan 02 09:44:29 L001LPF3RKAR5 systemd[1]: Failed to start Create System Users.\n",
    "```\n",
    "\n",
    "user encountered this issue: https://anthony-f-tannous.medium.com/run-systemd-on-wsl2-distro-18a9775cb2f2\n",
    "\n",
    "and suggests a workaround:\n",
    "\n",
    "```bash\n",
    "sudo systemctl edit systemd-sysusers.service\n",
    "\n",
    "#here is the content to be added:\n",
    "\n",
    "### Anything between here and the comment below will become the new contents of the file[Service]\n",
    "[Service]\n",
    "LoadCredential=\n",
    "### Lines below this comment will be discarded### /lib/systemd/system/systemd-sysusers.service\n",
    "\n",
    "#check this is active\n",
    "cat /etc/systemd/system/systemd-sysusers.service.d/override.conf\n",
    "\n",
    "#restart service\n",
    "sudo systemctl restart systemd-sysusers.service\n",
    "```"
   ]
  },
  {
   "cell_type": "markdown",
   "id": "3c6555ac-4a8e-4267-bfc6-1fbd886e5d4a",
   "metadata": {},
   "source": [
    "#### **gnome-session failed**"
   ]
  },
  {
   "cell_type": "markdown",
   "id": "c842ab98-24ae-4ef7-915d-da09cfdd1968",
   "metadata": {},
   "source": [
    "```bash\n",
    "sudo journalctl -r\n",
    "gnome-session-binary[3048]: Entering running state\n",
    "gnome-session[3048]: _IceTransmkdir: ERROR: euid != 0,directory /tmp/.ICE-unix will not be created.\n",
    "gnome-session-binary[3048]: WARNING: Could not get session id for session. Check that logind is properly installed and pam_systemd is getting used at login.\n",
    "gnome-session[3048]: gnome-session-binary[3048]: WARNING: Could not get session id for session. Check that logind is properly installed and pam_systemd is getting used at login.\n",
    "gnome-session-binary[3048]: WARNING: Falling back to non-systemd startup procedure due to error: GDBus.Error:org.freedesktop.DBus.Error.InvalidArgs: Unit name gnome-session-(null)@gnome.target is not valid.\n",
    "gnome-session[3048]: gnome-session-binary[3048]: WARNING: Falling back to non-systemd startup procedure due to error: GDBus.Error:org.freedesktop.DBus.Error.InvalidArgs: Unit name gnome-session-(null)@gnome.target is not valid.\n",
    "```\n",
    "\n",
    "to try https://askubuntu.com/questions/1442663/cannot-start-gnome-session-after-enabling-systemd-on-latest-wsl2\n",
    "\n",
    "Activate rc.local service: (see https://www.cyberciti.biz/faq/how-to-enable-rc-local-shell-script-on-systemd-while-booting-linux-system/)\n",
    "\n",
    "```bash\n",
    "sudo systemctl is-enabled rc-local.service\n",
    "(if static it means it has be activated)\n",
    "sudo systemctl enable rc-local.service\n",
    "\n",
    "#create rc.local file\n",
    "sudo vi /etc/rc.local\n",
    "\n",
    "#!/bin/sh -e#!/bin/sh -e\n",
    "mount -o rw,remount /tmp/.X11-unix/\n",
    "chmod +t /tmp/.X11-unix\n",
    "chmod o+rw /dev/dri/renderD128\n",
    "/usr/libexec/at-spi-bus-launcher --launch-immediately &\n",
    "exit 0\n",
    "\n",
    "#save & exit\n",
    "sudo chmod 700 /etc/rc.local\n",
    "```"
   ]
  },
  {
   "cell_type": "markdown",
   "id": "b050e394-2f08-41be-83b9-bd9973655699",
   "metadata": {},
   "source": [
    "create `/etc/pam.d/system/systemd-user` with this content:\n",
    "\n",
    "\n",
    "```text\n",
    "# This file is part of systemd.\n",
    "#\n",
    "# Used by systemd --user instances.\n",
    "\n",
    "@include common-account\n",
    "\n",
    "session  required pam_loginuid.so\n",
    "session  required pam_limits.so\n",
    "@include common-session-noninteractive\n",
    "session optional pam_systemd.so\n",
    "```\n",
    "\n",
    "and restart wsl"
   ]
  },
  {
   "cell_type": "markdown",
   "id": "c3fc4b34-a380-4777-b0fc-a97645262a26",
   "metadata": {},
   "source": [
    "#### **from scratch**\n"
   ]
  },
  {
   "cell_type": "markdown",
   "id": "29339be6-8caa-4c37-a9a1-acb60323ddec",
   "metadata": {},
   "source": [
    "from powershell\n",
    "\n",
    "```bash\n",
    "wsl --import ubuntu-x11 C:\\wsl\\Ubuntu-22.04_X11\\instance C:\\wsl\\Ubuntu-22.04_X11\\download\\ubuntu-jammy-wsl-amd64-wsl.rootfs.tar.gz\n",
    "wsl -d ubuntu-x11\n",
    "cd\n",
    "cp /mnt/c/wsl/Ubuntu-22.04_X11/download/setup_wsl_* ~/\n",
    "chmod +x setup_wsl_root.sh\n",
    "./setup_wsl_root.sh\n",
    "```\n",
    "\n",
    "from powershell\n",
    "```bash\n",
    "wsl -t ubuntu-x11\n",
    "```\n",
    "\n",
    "start ubuntu-x11 from windows terminal menu\n",
    "\n",
    "and enter informations requested (ssh keys (paste to gitlab), update certificates (enter password)). Other steps are automatic."
   ]
  },
  {
   "cell_type": "markdown",
   "id": "c6011573-f2ba-41c4-8ed4-c80968bcf60c",
   "metadata": {},
   "source": [
    "Other steps:\n",
    "- activate systemd (by modifying /etc/wsl.conf)\n",
    "- restart\n"
   ]
  },
  {
   "cell_type": "markdown",
   "id": "b66fa39d-5806-437e-925c-17bd217bb02e",
   "metadata": {},
   "source": [
    "Here we have a fully working distro. And we will test what is suggested at : https://askubuntu.com/a/1445415\n",
    "\n",
    "* Create the file /etc/pam.d/system/systemd-user\n",
    "* Restart distro\n",
    "* `sudo apt install ubuntu-desktop acpi-support-`\n",
    "* prevent gdm service to start\n",
    "    - `sudo systemctl stop gdm.service`\n",
    "    - `sudo systemctl disable gdm.service`\n",
    "* activate x11 config at boot:\n",
    "    - ```bash\n",
    "        sudo systemctl is-enabled rc-local.service\n",
    "        (if static it means it has be activated)\n",
    "        sudo systemctl enable rc-local.service\n",
    "        ```\n",
    "    - ```bash\n",
    "        #create rc.local file\n",
    "        sudo vi /etc/rc.local\n",
    "\n",
    "        #!/bin/sh -e\n",
    "        mount -o rw,remount /tmp/.X11-unix/\n",
    "        chmod +t /tmp/.X11-unix\n",
    "        chmod o+rw /dev/dri/renderD128\n",
    "        /usr/libexec/at-spi-bus-launcher --launch-immediately &\n",
    "        exit 0\n",
    "\n",
    "        #save & exit\n",
    "        sudo chmod 700 /etc/rc.local\n",
    "        ```\n",
    "* `sudo usermod -a -G adm guillaume`\n",
    "* Restart distro\n",
    "* `XDG_SESSION_TYPE=x11 gnome-session --disable-acceleration-check --session=ubuntu --systemd-service > /dev/null 2>&1`\n"
   ]
  },
  {
   "cell_type": "code",
   "execution_count": null,
   "id": "7402df3e-7b6c-45b0-a59d-350deb4495c2",
   "metadata": {},
   "outputs": [],
   "source": []
  }
 ],
 "metadata": {
  "kernelspec": {
   "display_name": "Python 3 (ipykernel)",
   "language": "python",
   "name": "python3"
  },
  "language_info": {
   "codemirror_mode": {
    "name": "ipython",
    "version": 3
   },
   "file_extension": ".py",
   "mimetype": "text/x-python",
   "name": "python",
   "nbconvert_exporter": "python",
   "pygments_lexer": "ipython3",
   "version": "3.9.15"
  },
  "toc": {
   "base_numbering": 1,
   "nav_menu": {},
   "number_sections": true,
   "sideBar": true,
   "skip_h1_title": false,
   "title_cell": "Table of Contents",
   "title_sidebar": "Contents",
   "toc_cell": false,
   "toc_position": {},
   "toc_section_display": true,
   "toc_window_display": true
  }
 },
 "nbformat": 4,
 "nbformat_minor": 5
}
