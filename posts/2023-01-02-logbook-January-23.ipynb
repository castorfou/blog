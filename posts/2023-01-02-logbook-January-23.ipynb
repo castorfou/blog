{
 "cells": [
  {
   "cell_type": "raw",
   "id": "cb1fa2df-fd88-4efc-a58f-3083a36bc982",
   "metadata": {},
   "source": [
    "---\n",
    "title: \"Logbook for January 23\"\n",
    "description: \"\"\n",
    "date: \"01/01/2023\"\n",
    "categories:\n",
    "  - logbook\n",
    "image: /images/logbook.jpg\n",
    "toc: true\n",
    "show_tags: true\n",
    "---"
   ]
  },
  {
   "cell_type": "markdown",
   "id": "2e068d6f-8d88-4a1b-8944-759c91c5363b",
   "metadata": {},
   "source": [
    "# Week 1 - January 23"
   ]
  },
  {
   "cell_type": "markdown",
   "id": "66027f24-8a1f-4f6b-9ae6-fcbe965078b4",
   "metadata": {},
   "source": [
    "## **Monday 01/02**"
   ]
  },
  {
   "cell_type": "markdown",
   "id": "d8bdae88-fe81-4347-9eb1-8557acc439fd",
   "metadata": {},
   "source": [
    "### WSL and X-session"
   ]
  },
  {
   "cell_type": "markdown",
   "id": "8fd993e1-2246-45b8-a539-881eca930233",
   "metadata": {},
   "source": [
    "I have left on-going tests last week of 22.\n",
    "\n",
    "Trying to start a X-session on ubuntu 22.04 within this new version of WSL.\n",
    "\n",
    "Done it on a sandbox distro at [Run gnome-session in Ubuntu LTS](/posts/2022-12-15-wsl2-fresh-pc.html#run-gnome-session-in-ubuntu-lts)\n",
    "\n",
    "Now `gnome-shell` can be started from distro `ubuntu-x11` by calling `gnomeshell.sh`"
   ]
  },
  {
   "cell_type": "markdown",
   "id": "8aa6f863-cc5f-432d-9b5e-f5372364713c",
   "metadata": {},
   "source": [
    "### other wsl stuff"
   ]
  },
  {
   "cell_type": "markdown",
   "id": "5530b7bf-3944-4dfe-bd1f-fe7b3646874b",
   "metadata": {},
   "source": [
    "**jupyter lab**\n",
    "\n",
    "setup my `base_jupyter` env [jupyter lab in WSL](/posts/2022-12-15-wsl2-fresh-pc.html#jupyter-lab)"
   ]
  },
  {
   "cell_type": "markdown",
   "id": "47984176-430a-4c78-b35d-b484d89241b2",
   "metadata": {},
   "source": [
    "Now jupyter lab starts automatically with distro `ubuntu-22.04`\n",
    "\n",
    "and can be restarted with `sudo systemctl restart jupyterlab` "
   ]
  },
  {
   "cell_type": "code",
   "execution_count": null,
   "id": "1c3c5960-1e07-4bc2-874a-1817defe7b0a",
   "metadata": {},
   "outputs": [],
   "source": []
  }
 ],
 "metadata": {
  "kernelspec": {
   "display_name": "Python 3 (ipykernel)",
   "language": "python",
   "name": "python3"
  },
  "language_info": {
   "codemirror_mode": {
    "name": "ipython",
    "version": 3
   },
   "file_extension": ".py",
   "mimetype": "text/x-python",
   "name": "python",
   "nbconvert_exporter": "python",
   "pygments_lexer": "ipython3",
   "version": "3.9.15"
  },
  "toc": {
   "base_numbering": 1,
   "nav_menu": {},
   "number_sections": true,
   "sideBar": true,
   "skip_h1_title": false,
   "title_cell": "Table of Contents",
   "title_sidebar": "Contents",
   "toc_cell": false,
   "toc_position": {},
   "toc_section_display": true,
   "toc_window_display": true
  }
 },
 "nbformat": 4,
 "nbformat_minor": 5
}
